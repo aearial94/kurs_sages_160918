{
 "cells": [
  {
   "cell_type": "markdown",
   "metadata": {},
   "source": [
    "# Map"
   ]
  },
  {
   "cell_type": "code",
   "execution_count": 2,
   "metadata": {
    "collapsed": false
   },
   "outputs": [
    {
     "name": "stdout",
     "output_type": "stream",
     "text": [
      "<class 'int'>\n"
     ]
    }
   ],
   "source": [
    "# Map - PRZEKLlikać w domu w debuggerze\n",
    "\n",
    "liczby = ['1', '2', '3', '4', '5', '5']\n",
    "przekonwertowane_liczby = list(map(int, liczby))\n",
    "print(type(przekonwertowane_liczby[-1]))"
   ]
  },
  {
   "cell_type": "markdown",
   "metadata": {},
   "source": [
    "# Filtry i lambda"
   ]
  },
  {
   "cell_type": "code",
   "execution_count": 4,
   "metadata": {
    "collapsed": false
   },
   "outputs": [
    {
     "name": "stdout",
     "output_type": "stream",
     "text": [
      "7\n",
      "['Angelika', 'Dzesika']\n",
      "Koniec programu\n"
     ]
    }
   ],
   "source": [
    "# Filtry\n",
    "\n",
    "ludzie = ['Adam', 'Tomek', 'Kasia', 'Andrzej', 'Angelika', 'Brajan', 'Dzesika']\n",
    "\n",
    "funkcja_dlugosci = lambda x: len(x)\n",
    "\n",
    "# def funkcja_dlugosci(x):\n",
    "\n",
    "#    return len(x)\n",
    "\n",
    "print(funkcja_dlugosci(ludzie[-1]))\n",
    "\n",
    "\n",
    "# Filtrujemy ludzi gdzie ostatnia litera jest a oraz dlugosc ciagu jest wieksza\n",
    "\n",
    "# od 5\n",
    "\n",
    "wyniki_filtrowania = list(filter(lambda x: len(x) > 5 and x.endswith('a'), ludzie))\n",
    "\n",
    "# wyniki_filtrowania = []\n",
    "\n",
    "# for czlowiek in ludzie:\n",
    "\n",
    "#     if czlowiek.endswith('a') and len(czlowiek) > 5:\n",
    "\n",
    "#         wyniki_filtrowania.append(czlowiek)\n",
    "\n",
    "\n",
    "print(wyniki_filtrowania)\n",
    "\n",
    "print('Koniec programu')"
   ]
  },
  {
   "cell_type": "code",
   "execution_count": null,
   "metadata": {
    "collapsed": true
   },
   "outputs": [],
   "source": []
  }
 ],
 "metadata": {
  "kernelspec": {
   "display_name": "Python 3",
   "language": "python",
   "name": "python3"
  },
  "language_info": {
   "codemirror_mode": {
    "name": "ipython",
    "version": 3
   },
   "file_extension": ".py",
   "mimetype": "text/x-python",
   "name": "python",
   "nbconvert_exporter": "python",
   "pygments_lexer": "ipython3",
   "version": "3.6.0"
  }
 },
 "nbformat": 4,
 "nbformat_minor": 2
}
