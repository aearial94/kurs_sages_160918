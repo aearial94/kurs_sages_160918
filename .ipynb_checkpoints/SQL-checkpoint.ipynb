{
 "cells": [
  {
   "cell_type": "markdown",
   "metadata": {},
   "source": [
    "# Podstawy SQL "
   ]
  },
  {
   "cell_type": "markdown",
   "metadata": {},
   "source": [
    "### 1. SELECT * FROM tabla - wybieranie wszystkiego z tabeli \"tabela\""
   ]
  },
  {
   "cell_type": "code",
   "execution_count": null,
   "metadata": {
    "collapsed": true
   },
   "outputs": [],
   "source": [
    "SELECT * FROM tabela\n",
    "SELECT title FROM films\n",
    "SELECT release_year FROM films\n",
    "SELECT name FROM people\n"
   ]
  },
  {
   "cell_type": "markdown",
   "metadata": {},
   "source": [
    "### 2. SELECT wartosc1,wartosc2 FROM tabela - wybieranie dwóch kolumn o nazwach wartosc1,wartosc2 z tabeli \"tabela\""
   ]
  },
  {
   "cell_type": "code",
   "execution_count": null,
   "metadata": {
    "collapsed": true
   },
   "outputs": [],
   "source": [
    "SELECT wartosc1,wartosc2 FROM tabela\n",
    "SELECT title, release_year FROM films\n",
    "SELECT title, release_year, country FROM films"
   ]
  },
  {
   "cell_type": "markdown",
   "metadata": {},
   "source": [
    "### 3. LIMIT - ograniczanie ilości wyświetlanych rekordów"
   ]
  },
  {
   "cell_type": "code",
   "execution_count": null,
   "metadata": {
    "collapsed": true
   },
   "outputs": [],
   "source": [
    "SELECT * FROM tabela LIMIT 5 # ogranicza ilość rekordów do 5\n",
    "SELECT DISTINCT country FROM films LIMIT 5\n",
    "SELECT DISTINCT certification FROM films LIMIT 5"
   ]
  },
  {
   "cell_type": "markdown",
   "metadata": {},
   "source": [
    "### 4. DISTINCT - rekordy bez powrótrzeń"
   ]
  },
  {
   "cell_type": "code",
   "execution_count": null,
   "metadata": {
    "collapsed": true
   },
   "outputs": [],
   "source": [
    "SELECT DISTINCT wartosc1 FROM tabela\n",
    "SELECT DISTINCT language FROM films\n",
    "SELECT DISTINCT country FROM films\n",
    "SELECT DISTINCT certification FROM films\n",
    "SELECT DISTINCT roles FROM roles"
   ]
  },
  {
   "cell_type": "markdown",
   "metadata": {},
   "source": [
    "### 5. COUNT - zliczanie danych w kolumnie\n",
    " #### UWAGA - Zlicza tylko wartości nie puste"
   ]
  },
  {
   "cell_type": "code",
   "execution_count": null,
   "metadata": {
    "collapsed": true
   },
   "outputs": [],
   "source": [
    "SELECT COUNT(*) FROM reviews\n",
    "SELECT COUNT(DISTINCT birthdate) FROM people\n",
    "SELECT COUNT(DISTINCT language) FROM films\n",
    "SELECT COUNT(DISTINCT country) FROM films"
   ]
  },
  {
   "cell_type": "markdown",
   "metadata": {},
   "source": [
    "### 6. Operatory logiczne"
   ]
  },
  {
   "cell_type": "code",
   "execution_count": null,
   "metadata": {
    "collapsed": true
   },
   "outputs": [],
   "source": [
    "= equal\n",
    "<> not equal\n",
    "< less than\n",
    "> greater than\n",
    "<= less than or equal to\n",
    ">= greater than or equal to\n"
   ]
  },
  {
   "cell_type": "markdown",
   "metadata": {},
   "source": [
    "### 7.WHERE - dodatkowe warunki do spełnienia"
   ]
  },
  {
   "cell_type": "code",
   "execution_count": null,
   "metadata": {
    "collapsed": true,
    "scrolled": false
   },
   "outputs": [],
   "source": [
    "SELECT * FROM films WHERE budget > 10000\n",
    "SELECT COUNT(id) FROM films WHERE release_year<2000\n",
    "SELECT title,release_year FROM films WHERE release_year>2000\n",
    "SELECT title FROM films WHERE title = 'Metropolis'\n",
    "SELECT name,birthdate FROM people WHERE birthdate= '1974-11-11'\n",
    "SELECT count(id) FROM films WHERE language= 'Hindi'"
   ]
  },
  {
   "cell_type": "markdown",
   "metadata": {},
   "source": [
    "### 8. AND / OR - łączenie warunków"
   ]
  },
  {
   "cell_type": "code",
   "execution_count": null,
   "metadata": {
    "collapsed": true
   },
   "outputs": [],
   "source": [
    "SELECT title FROM films WHERE release_year > 1994 AND < 2000\n",
    "SELECT title, release_year FROM films WHERE release_year < 2000 AND language= 'Spanish'"
   ]
  },
  {
   "cell_type": "markdown",
   "metadata": {},
   "source": [
    "### 9. BETWEEN ... AND ... - zakresy danych"
   ]
  },
  {
   "cell_type": "markdown",
   "metadata": {},
   "source": [
    "##### BETWEEN zwraca zakres razem z krańcami (inclusive)"
   ]
  },
  {
   "cell_type": "code",
   "execution_count": null,
   "metadata": {
    "collapsed": true
   },
   "outputs": [],
   "source": [
    "SELECT title FROM films WHERE release_year BETWEEN 1994 AND 2000;\n",
    "SELECT title, release_year FROM films WHERE release_year BETWEEN 1990 AND 2000 AND language='Spanish' AND budget>100000000\n",
    "SELECT title, release_year FROM films WHERE release_year BETWEEN 1990 AND 2000  AND budget>100000000 AND (language='Spanish' or language='French')"
   ]
  },
  {
   "cell_type": "markdown",
   "metadata": {},
   "source": [
    "### 10. WHERE IN - sprawdzanie zawartości w liście"
   ]
  },
  {
   "cell_type": "code",
   "execution_count": null,
   "metadata": {
    "collapsed": true
   },
   "outputs": [],
   "source": [
    "SELECT name FROM kids WHERE age IN (2, 4, 6, 8, 10);"
   ]
  },
  {
   "cell_type": "markdown",
   "metadata": {},
   "source": [
    "### 11. NULL , IS NULL - wartości brakujące,puste"
   ]
  },
  {
   "cell_type": "code",
   "execution_count": null,
   "metadata": {
    "collapsed": true
   },
   "outputs": [],
   "source": [
    "SELECT name FROM people WHERE deathdate is null\n",
    "SELECT title FROM films WHERE budget is null\n",
    "SELECT count(id) from films WHERE language is null"
   ]
  },
  {
   "cell_type": "markdown",
   "metadata": {},
   "source": [
    "### 12. LIKE / NOT LIKE - podobne/niepodobne"
   ]
  },
  {
   "cell_type": "code",
   "execution_count": null,
   "metadata": {
    "collapsed": true
   },
   "outputs": [],
   "source": [
    "SELECT name FROM companies WHERE name LIKE 'Data%';\n",
    "SELECT name FROM people WHERE name LIKE \"B%\"\n",
    "SELECT name FROM people WHERE name NOT LIKE 'A%'"
   ]
  },
  {
   "cell_type": "markdown",
   "metadata": {},
   "source": [
    "### 13. % - ciąg  uniwersalny , _ - znak uniwersalny"
   ]
  },
  {
   "cell_type": "code",
   "execution_count": null,
   "metadata": {
    "collapsed": true
   },
   "outputs": [],
   "source": [
    "SELECT name FROM people WHERE name LIKE '_r%' \n",
    "SELECT name FROM people WHERE name NOT LIKE 'A%'"
   ]
  },
  {
   "cell_type": "markdown",
   "metadata": {},
   "source": [
    "### 14. Używać ' ', a nie \" \""
   ]
  },
  {
   "cell_type": "code",
   "execution_count": null,
   "metadata": {
    "collapsed": true
   },
   "outputs": [],
   "source": []
  },
  {
   "cell_type": "markdown",
   "metadata": {},
   "source": [
    "### 15. AVG( ) ; SUM( ) ; MIN( ) ; MAX( ) - funkcje wbudowane"
   ]
  },
  {
   "cell_type": "code",
   "execution_count": null,
   "metadata": {
    "collapsed": true
   },
   "outputs": [],
   "source": [
    "SELECT SUM(duration) FROM films\n",
    "SELECT AVG(duration) FROM films\n",
    "SELECT MIN(duration) FROM films\n",
    "SELECT MAX(duration) FROM films"
   ]
  },
  {
   "cell_type": "markdown",
   "metadata": {},
   "source": [
    "### 16. AS - przypisywanie rekordu do nowej nazwy"
   ]
  },
  {
   "cell_type": "code",
   "execution_count": null,
   "metadata": {
    "collapsed": true
   },
   "outputs": [],
   "source": [
    "SELECT MAX(budget) AS max_budget,\n",
    "       MAX(duration) AS max_duration\n",
    "FROM films;\n",
    "\n",
    "select title,gross-budget as net_profit from films\n",
    "\n",
    "select avg(duration)/60.0 as avg_duration_hours from films"
   ]
  },
  {
   "cell_type": "markdown",
   "metadata": {},
   "source": [
    "### 17. ORDER BY - uporządkowanie wyników"
   ]
  },
  {
   "cell_type": "code",
   "execution_count": null,
   "metadata": {
    "collapsed": true
   },
   "outputs": [],
   "source": [
    "SELECT name FROM people ORDER BY name\n",
    "SELECT birthdate, name FROM people ORDER BY birthdate\n",
    "SELECT * FROM films WHERE release_year <> 2015 ORDER BY duration\n",
    "SELECT title,gross FROM films WHERE title LIKE 'M%' ORDER BY title\n",
    "SELECT release_year, duration, title FROM films ORDER BY release_year,duration"
   ]
  },
  {
   "cell_type": "markdown",
   "metadata": {},
   "source": [
    "### 18. ORDER BY .... DESC - uporządkowanie odwrotne ( descending)"
   ]
  },
  {
   "cell_type": "code",
   "execution_count": null,
   "metadata": {
    "collapsed": true
   },
   "outputs": [],
   "source": [
    "SELECT imdb_score,film_id FROM reviews ORDER BY imdb_score DESC\n",
    "SELECT title FROM films ORDER BY title DESC"
   ]
  },
  {
   "cell_type": "markdown",
   "metadata": {},
   "source": [
    "### 19. GROUP BY - grupowanie rekordów"
   ]
  },
  {
   "cell_type": "code",
   "execution_count": null,
   "metadata": {
    "collapsed": true
   },
   "outputs": [],
   "source": [
    "SELECT release_year,count(id) FROM films GROUP BY release_year\n",
    "SELECT release_year,avg(duration) FROM films GROUP BY release_year"
   ]
  },
  {
   "cell_type": "markdown",
   "metadata": {},
   "source": [
    "### 20. HAVING - dodatkowe warunki logiczne"
   ]
  },
  {
   "cell_type": "code",
   "execution_count": null,
   "metadata": {
    "collapsed": true
   },
   "outputs": [],
   "source": [
    "SELECT release_year\n",
    "FROM films\n",
    "GROUP BY release_year\n",
    "HAVING COUNT(title) > 10;\n",
    "\n",
    "\n"
   ]
  },
  {
   "cell_type": "markdown",
   "metadata": {},
   "source": [
    "#### *** ZADANIA COMBOSY ***"
   ]
  },
  {
   "cell_type": "code",
   "execution_count": null,
   "metadata": {
    "collapsed": true
   },
   "outputs": [],
   "source": [
    "SELECT  release_year,\n",
    "        AVG(budget) AS avg_budget ,\n",
    "        AVG(gross) AS avg_gross \n",
    "FROM films  \n",
    "GROUP by release_year \n",
    "HAVING AVG(budget) >= 60000000\n",
    "ORDER by AVG(gross) DESC"
   ]
  },
  {
   "cell_type": "code",
   "execution_count": null,
   "metadata": {
    "collapsed": true
   },
   "outputs": [],
   "source": []
  }
 ],
 "metadata": {
  "kernelspec": {
   "display_name": "Python 3",
   "language": "python",
   "name": "python3"
  },
  "language_info": {
   "codemirror_mode": {
    "name": "ipython",
    "version": 3
   },
   "file_extension": ".py",
   "mimetype": "text/x-python",
   "name": "python",
   "nbconvert_exporter": "python",
   "pygments_lexer": "ipython3",
   "version": "3.6.0"
  }
 },
 "nbformat": 4,
 "nbformat_minor": 2
}
