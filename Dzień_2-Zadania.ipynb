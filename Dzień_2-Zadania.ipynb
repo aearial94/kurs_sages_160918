{
 "cells": [
  {
   "cell_type": "markdown",
   "metadata": {},
   "source": [
    "# Zadanie 1"
   ]
  },
  {
   "cell_type": "code",
   "execution_count": 1,
   "metadata": {
    "collapsed": false
   },
   "outputs": [
    {
     "name": "stdout",
     "output_type": "stream",
     "text": [
      "Hello \n",
      "World\n"
     ]
    }
   ],
   "source": [
    "print(\"Hello \\nWorld\")"
   ]
  },
  {
   "cell_type": "markdown",
   "metadata": {},
   "source": [
    "# Zadanie2"
   ]
  },
  {
   "cell_type": "code",
   "execution_count": 2,
   "metadata": {
    "collapsed": false
   },
   "outputs": [
    {
     "name": "stdout",
     "output_type": "stream",
     "text": [
      "Tomek\n",
      "Ania\n"
     ]
    }
   ],
   "source": [
    "pierwszy_uczestnik=\"Ania\"\n",
    "drugi_uczestnik=\"Tomek\"\n",
    "\n",
    "bufor=pierwszy_uczestnik\n",
    "pierwszy_uczestnik=drugi_uczestnik\n",
    "drugi_uczestnik=bufor\n",
    "\n",
    "print(pierwszy_uczestnik)\n",
    "print(drugi_uczestnik)"
   ]
  },
  {
   "cell_type": "markdown",
   "metadata": {},
   "source": [
    "# zadanie 3"
   ]
  },
  {
   "cell_type": "code",
   "execution_count": 3,
   "metadata": {
    "collapsed": false
   },
   "outputs": [
    {
     "name": "stdout",
     "output_type": "stream",
     "text": [
      "5 4 13\n"
     ]
    }
   ],
   "source": [
    "trzeci_uczestnik=\"Wierzchosława\"\n",
    "print (len(pierwszy_uczestnik),len(drugi_uczestnik),len(trzeci_uczestnik))"
   ]
  },
  {
   "cell_type": "markdown",
   "metadata": {},
   "source": [
    "# Zadanie4"
   ]
  },
  {
   "cell_type": "code",
   "execution_count": 5,
   "metadata": {
    "collapsed": false
   },
   "outputs": [
    {
     "name": "stdout",
     "output_type": "stream",
     "text": [
      "7.333333333333333\n"
     ]
    }
   ],
   "source": [
    "srednia_dlugosci_liter=(len(pierwszy_uczestnik)+len(drugi_uczestnik)+len(trzeci_uczestnik))/3\n",
    "print(srednia_dlugosci_liter)"
   ]
  },
  {
   "cell_type": "code",
   "execution_count": 8,
   "metadata": {
    "collapsed": false
   },
   "outputs": [
    {
     "name": "stdout",
     "output_type": "stream",
     "text": [
      "5\n"
     ]
    }
   ],
   "source": [
    "from statistics import median\n",
    "czwarty_uczestnik='Ada'\n",
    "lista=[len(pierwszy_uczestnik),len(drugi_uczestnik),len(trzeci_uczestnik)]\n",
    "mediana=median(lista)\n",
    "print(mediana)"
   ]
  },
  {
   "cell_type": "code",
   "execution_count": 12,
   "metadata": {
    "collapsed": false
   },
   "outputs": [
    {
     "name": "stdout",
     "output_type": "stream",
     "text": [
      "22.22222222222222\n"
     ]
    }
   ],
   "source": [
    "moje_imie=\"Karol\"\n",
    "wzrost=1.5\n",
    "waga=50\n",
    "BMI=waga/(wzrost**2)\n",
    "print(BMI)"
   ]
  },
  {
   "cell_type": "code",
   "execution_count": 22,
   "metadata": {
    "collapsed": false
   },
   "outputs": [
    {
     "name": "stdout",
     "output_type": "stream",
     "text": [
      "Jest dobrze\n"
     ]
    }
   ],
   "source": [
    "if BMI<18.49:\n",
    "    print(\"Za małe BMI\")\n",
    "elif (18.5<BMI and BMI<25):\n",
    "    print(\"Jest dobrze\")\n",
    "else : print (\"Za wysokie BMI\")\n",
    "            "
   ]
  },
  {
   "cell_type": "code",
   "execution_count": 26,
   "metadata": {
    "collapsed": false
   },
   "outputs": [
    {
     "name": "stdout",
     "output_type": "stream",
     "text": [
      "Szczęścia brak\n"
     ]
    }
   ],
   "source": [
    "czy_pada=True\n",
    "czy_tydzien=True\n",
    "czy_bankrut=False\n",
    "if czy_pada == False and czy_tydzien_pracy== False and czy_bankrut==False:\n",
    "    print (jest_fajnie=\"Jest fajnie\")\n",
    "else : print(\"Szczęścia brak\")"
   ]
  },
  {
   "cell_type": "markdown",
   "metadata": {},
   "source": [
    "#zadanie6"
   ]
  },
  {
   "cell_type": "markdown",
   "metadata": {},
   "source": [
    "#zadanie6*"
   ]
  },
  {
   "cell_type": "code",
   "execution_count": 63,
   "metadata": {
    "collapsed": false,
    "scrolled": true
   },
   "outputs": [
    {
     "data": {
      "image/png": "[encoded data removed]",
      "text/plain": [
       "<matplotlib.figure.Figure at 0x7fed1fda00b8>"
      ]
     },
     "metadata": {},
     "output_type": "display_data"
    }
   ],
   "source": [
    "import matplotlib.pyplot as plt\n",
    "lista_wag=[50,67,79,90,80,65]\n",
    "lista_wzrostow=[160,116,187,180,190,168]\n",
    "plt.plot(lista_wag,lista_wzrostow, 'ro')\n",
    "plt.show()"
   ]
  },
  {
   "cell_type": "code",
   "execution_count": 74,
   "metadata": {
    "collapsed": false
   },
   "outputs": [
    {
     "name": "stdout",
     "output_type": "stream",
     "text": [
      "Karol\n"
     ]
    },
    {
     "data": {
      "text/plain": [
       "False"
      ]
     },
     "execution_count": 74,
     "metadata": {},
     "output_type": "execute_result"
    }
   ],
   "source": [
    "def zwroc_imie(imie):\n",
    "    print(imie)\n",
    "    return imie\n",
    "\n",
    "zwroc_imie(\"Karol\")==None"
   ]
  },
  {
   "cell_type": "code",
   "execution_count": 88,
   "metadata": {
    "collapsed": false
   },
   "outputs": [
    {
     "name": "stdout",
     "output_type": "stream",
     "text": [
      "Karol twoje BMI to 24.691358024691358 i masz dobre BMI\n"
     ]
    }
   ],
   "source": [
    "def bmi(waga,wzrost,imie):\n",
    "    BMI=waga/(wzrost**2)\n",
    "    if BMI<18.49:\n",
    "        zmienna=\"i masz za niskie BMI\"\n",
    "    elif (18.5<BMI and BMI<25):\n",
    "        zmienna=\"i masz dobre BMI\"\n",
    "    else : \n",
    "        zmienna=\"i masz za wysokie BMI\"\n",
    "    print(imie, \"twoje BMI to\", BMI, zmienna)\n",
    "    return\n",
    "waga=80\n",
    "wzrost=1.80\n",
    "imie=\"Karol\"\n",
    "bmi(waga,wzrost,imie)"
   ]
  },
  {
   "cell_type": "markdown",
   "metadata": {},
   "source": [
    "#Zadanie9"
   ]
  },
  {
   "cell_type": "code",
   "execution_count": 114,
   "metadata": {
    "collapsed": false
   },
   "outputs": [
    {
     "name": "stdout",
     "output_type": "stream",
     "text": [
      "Średnia zarobków w dziale Administracja wynosi 1501 zł\n",
      "3\n",
      "Zarobki w dziale Administracja wynoszą 1400.53\n"
     ]
    }
   ],
   "source": [
    "def suma_zarobkow(dzial,kwota):\n",
    "    print(\"Średnia zarobków w dziale\",dzial,\"wynosi\",kwota,\"zł\")\n",
    "    return\n",
    "dzial=\"Administracja\"\n",
    "kwota=round(1500.53)\n",
    "suma_zarobkow(dzial,kwota)\n",
    "listy_zarobkow=[[\"Administracja\",1400.53],[\"finanse\",2064.34],[\"it\",5000.23]]\n",
    "print(len(listy_zarobkow))\n",
    "\n",
    "def suma_zarobkow2(listy_zarobkow,dzial):\n",
    "    for x in range(len(listy_zarobkow)):\n",
    "        if listy_zarobkow[x][0]==dzial:\n",
    "            print(\"Zarobki w dziale\",dzial,\"wynoszą\",listy_zarobkow[i][1])\n",
    "suma_zarobkow2(listy_zarobkow,dzial)            "
   ]
  },
  {
   "cell_type": "markdown",
   "metadata": {},
   "source": [
    "##konkatenacja znaków"
   ]
  },
  {
   "cell_type": "code",
   "execution_count": 96,
   "metadata": {
    "collapsed": false
   },
   "outputs": [
    {
     "data": {
      "text/plain": [
       "'Hello Worldkodolamacz'"
      ]
     },
     "execution_count": 96,
     "metadata": {},
     "output_type": "execute_result"
    }
   ],
   "source": [
    "uzytkownik=!whoami\n",
    "'Hello World '+ uzytkownik[0]"
   ]
  },
  {
   "cell_type": "code",
   "execution_count": 108,
   "metadata": {
    "collapsed": false
   },
   "outputs": [
    {
     "name": "stdout",
     "output_type": "stream",
     "text": [
      "Hello World kodolamacz \n"
     ]
    }
   ],
   "source": [
    "print(\"Hello World {} \".format(uzytkownik[0]))"
   ]
  },
  {
   "cell_type": "markdown",
   "metadata": {},
   "source": []
  },
  {
   "cell_type": "code",
   "execution_count": 95,
   "metadata": {
    "collapsed": false,
    "scrolled": true
   },
   "outputs": [
    {
     "name": "stdout",
     "output_type": "stream",
     "text": [
      "anaconda3\t       Pobrane\t\t\t   Untitled-Copy1.ipynb\r\n",
      "AnacondaProjects       Publiczny\t\t   Wideo\r\n",
      "Dokumenty\t       Pulpit\t\t\t   wynik\r\n",
      "Dzień_2-Zadania.ipynb  pycharm-community-2016.3.3  wyniki2.txt\r\n",
      "examples.desktop       PycharmProjects\t\t   wyniki3.txt\r\n",
      "kurs_sages_160918      Python_part1.ipynb\t   wyniki_przed_grepem.txt\r\n",
      "matplotlib\t       spark\t\t\t   wynik_polecenia.txt\r\n",
      "Muzyka\t\t       spark-2.1.0-bin-hadoop2.7   zdjecia_kotow\r\n",
      "nasze_dane\t       Szablony\r\n",
      "Obrazy\t\t       tst.txt\r\n"
     ]
    }
   ],
   "source": [
    "!ls"
   ]
  },
  {
   "cell_type": "code",
   "execution_count": 104,
   "metadata": {
    "collapsed": false
   },
   "outputs": [
    {
     "data": {
      "text/plain": [
       "'karol2'"
      ]
     },
     "execution_count": 104,
     "metadata": {},
     "output_type": "execute_result"
    }
   ],
   "source": [
    "ciag_znakow=\"karol2\"\n",
    "ciag_znakow.endswith(\"2\")\n",
    "ciag_znakow.isdigit?\n",
    "ciag_znakow.lower()"
   ]
  },
  {
   "cell_type": "markdown",
   "metadata": {},
   "source": [
    "# slicing stringów"
   ]
  },
  {
   "cell_type": "code",
   "execution_count": 115,
   "metadata": {
    "collapsed": false
   },
   "outputs": [
    {
     "data": {
      "text/plain": [
       "'krl'"
      ]
     },
     "execution_count": 115,
     "metadata": {},
     "output_type": "execute_result"
    }
   ],
   "source": [
    "ciag_znakow[::2]"
   ]
  },
  {
   "cell_type": "markdown",
   "metadata": {},
   "source": []
  },
  {
   "cell_type": "code",
   "execution_count": null,
   "metadata": {
    "collapsed": true
   },
   "outputs": [],
   "source": []
  },
  {
   "cell_type": "code",
   "execution_count": null,
   "metadata": {
    "collapsed": true
   },
   "outputs": [],
   "source": []
  },
  {
   "cell_type": "code",
   "execution_count": null,
   "metadata": {
    "collapsed": true
   },
   "outputs": [],
   "source": []
  },
  {
   "cell_type": "markdown",
   "metadata": {},
   "source": []
  }
 ],
 "metadata": {
  "kernelspec": {
   "display_name": "Python 3",
   "language": "python",
   "name": "python3"
  },
  "language_info": {
   "codemirror_mode": {
    "name": "ipython",
    "version": 3
   },
   "file_extension": ".py",
   "mimetype": "text/x-python",
   "name": "python",
   "nbconvert_exporter": "python",
   "pygments_lexer": "ipython3",
   "version": "3.6.0"
  }
 },
 "nbformat": 4,
 "nbformat_minor": 2
}
