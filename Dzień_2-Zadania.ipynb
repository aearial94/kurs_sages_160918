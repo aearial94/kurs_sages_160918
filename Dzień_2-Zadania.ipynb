{
 "cells": [
  {
   "cell_type": "markdown",
   "metadata": {},
   "source": [
    "# Zadanie 1"
   ]
  },
  {
   "cell_type": "code",
   "execution_count": 35,
   "metadata": {
    "collapsed": false
   },
   "outputs": [
    {
     "name": "stdout",
     "output_type": "stream",
     "text": [
      "Hello \n",
      "World\n"
     ]
    }
   ],
   "source": [
    "print(\"Hello \\nWorld\")"
   ]
  },
  {
   "cell_type": "markdown",
   "metadata": {},
   "source": [
    "# Zadanie2"
   ]
  },
  {
   "cell_type": "code",
   "execution_count": 36,
   "metadata": {
    "collapsed": false
   },
   "outputs": [
    {
     "name": "stdout",
     "output_type": "stream",
     "text": [
      "Tomek\n",
      "Ania\n"
     ]
    }
   ],
   "source": [
    "pierwszy_uczestnik=\"Ania\"\n",
    "drugi_uczestnik=\"Tomek\"\n",
    "\n",
    "bufor=pierwszy_uczestnik\n",
    "pierwszy_uczestnik=drugi_uczestnik\n",
    "drugi_uczestnik=bufor\n",
    "\n",
    "print(pierwszy_uczestnik)\n",
    "print(drugi_uczestnik)"
   ]
  },
  {
   "cell_type": "markdown",
   "metadata": {},
   "source": [
    "# zadanie 3"
   ]
  },
  {
   "cell_type": "code",
   "execution_count": 37,
   "metadata": {
    "collapsed": false
   },
   "outputs": [
    {
     "name": "stdout",
     "output_type": "stream",
     "text": [
      "5 4 13\n"
     ]
    }
   ],
   "source": [
    "trzeci_uczestnik=\"Wierzchosława\"\n",
    "print (len(pierwszy_uczestnik),len(drugi_uczestnik),len(trzeci_uczestnik))"
   ]
  },
  {
   "cell_type": "markdown",
   "metadata": {},
   "source": []
  },
  {
   "cell_type": "code",
   "execution_count": 38,
   "metadata": {
    "collapsed": false
   },
   "outputs": [
    {
     "name": "stdout",
     "output_type": "stream",
     "text": [
      "7.333333333333333\n"
     ]
    }
   ],
   "source": [
    "srednia_dlugosci_liter=(len(pierwszy_uczestnik)+len(drugi_uczestnik)+len(trzeci_uczestnik))/3\n",
    "print(srednia_dlugosci_liter)"
   ]
  },
  {
   "cell_type": "code",
   "execution_count": 39,
   "metadata": {
    "collapsed": false
   },
   "outputs": [
    {
     "name": "stdout",
     "output_type": "stream",
     "text": [
      "5\n"
     ]
    }
   ],
   "source": [
    "from statistics import median\n",
    "czwarty_uczestnik='Ada'\n",
    "lista=[len(pierwszy_uczestnik),len(drugi_uczestnik),len(trzeci_uczestnik)]\n",
    "mediana=median(lista)\n",
    "print(mediana)"
   ]
  },
  {
   "cell_type": "markdown",
   "metadata": {},
   "source": [
    "# Zadanie 4\n"
   ]
  },
  {
   "cell_type": "code",
   "execution_count": 40,
   "metadata": {
    "collapsed": false
   },
   "outputs": [
    {
     "name": "stdout",
     "output_type": "stream",
     "text": [
      "22.22222222222222\n"
     ]
    }
   ],
   "source": [
    "moje_imie=\"Karol\"\n",
    "wzrost=1.5\n",
    "waga=50\n",
    "BMI=waga/(wzrost**2)\n",
    "print(BMI)"
   ]
  },
  {
   "cell_type": "code",
   "execution_count": null,
   "metadata": {
    "collapsed": true
   },
   "outputs": [],
   "source": []
  },
  {
   "cell_type": "code",
   "execution_count": 41,
   "metadata": {
    "collapsed": false
   },
   "outputs": [
    {
     "name": "stdout",
     "output_type": "stream",
     "text": [
      "Jest dobrze\n"
     ]
    }
   ],
   "source": [
    "if BMI<18.49:\n",
    "    print(\"Za małe BMI\")\n",
    "elif (18.5<BMI and BMI<25):\n",
    "    print(\"Jest dobrze\")\n",
    "else : print (\"Za wysokie BMI\")\n",
    "            "
   ]
  },
  {
   "cell_type": "markdown",
   "metadata": {},
   "source": [
    "# Zadanie5"
   ]
  },
  {
   "cell_type": "code",
   "execution_count": 42,
   "metadata": {
    "collapsed": false
   },
   "outputs": [
    {
     "name": "stdout",
     "output_type": "stream",
     "text": [
      "Szczęścia brak\n"
     ]
    }
   ],
   "source": [
    "czy_pada=True\n",
    "czy_tydzien=True\n",
    "czy_bankrut=False\n",
    "if czy_pada == False and czy_tydzien_pracy== False and czy_bankrut==False:\n",
    "    print (jest_fajnie=\"Jest fajnie\")\n",
    "else : print(\"Szczęścia brak\")"
   ]
  },
  {
   "cell_type": "markdown",
   "metadata": {},
   "source": [
    "# Zadanie6"
   ]
  },
  {
   "cell_type": "code",
   "execution_count": 43,
   "metadata": {
    "collapsed": false
   },
   "outputs": [
    {
     "name": "stdout",
     "output_type": "stream",
     "text": [
      "[1, 2, 3, 4, 5, 6, 7, 8, 9, 10, 11, 12]\n",
      "[3, 6, 9, 12, 15, 18, 21, 24, 27, 30]\n"
     ]
    }
   ],
   "source": [
    "lista_kwadrat=[]\n",
    "lista_kwadrat2=[]\n",
    "for x in range (1,13):\n",
    "    lista_kwadrat.append(x)\n",
    "print (lista_kwadrat)\n",
    "for x in range (3,31,3):\n",
    "    lista_kwadrat2.append(x)\n",
    "print(lista_kwadrat2)"
   ]
  },
  {
   "cell_type": "markdown",
   "metadata": {},
   "source": [
    "# Zadanie6*"
   ]
  },
  {
   "cell_type": "code",
   "execution_count": 44,
   "metadata": {
    "collapsed": false,
    "scrolled": true
   },
   "outputs": [
    {
     "data": {
      "image/png": "[encoded data removed]",
      "text/plain": [
       "<matplotlib.figure.Figure at 0x7fc6309576a0>"
      ]
     },
     "metadata": {},
     "output_type": "display_data"
    }
   ],
   "source": [
    "import matplotlib.pyplot as plt\n",
    "lista_wag=[50,67,79,90,80,65]\n",
    "lista_wzrostow=[160,116,187,180,190,168]\n",
    "plt.plot(lista_wag,lista_wzrostow, 'ro')\n",
    "plt.show()"
   ]
  },
  {
   "cell_type": "markdown",
   "metadata": {},
   "source": [
    "# Zadanie7"
   ]
  },
  {
   "cell_type": "code",
   "execution_count": 45,
   "metadata": {
    "collapsed": false
   },
   "outputs": [
    {
     "name": "stdout",
     "output_type": "stream",
     "text": [
      "Karol\n"
     ]
    },
    {
     "data": {
      "text/plain": [
       "False"
      ]
     },
     "execution_count": 45,
     "metadata": {},
     "output_type": "execute_result"
    }
   ],
   "source": [
    "def zwroc_imie(imie):\n",
    "    print(imie)\n",
    "    return imie\n",
    "\n",
    "zwroc_imie(\"Karol\")==None"
   ]
  },
  {
   "cell_type": "markdown",
   "metadata": {},
   "source": [
    "# Zadanie8"
   ]
  },
  {
   "cell_type": "code",
   "execution_count": 46,
   "metadata": {
    "collapsed": false
   },
   "outputs": [
    {
     "name": "stdout",
     "output_type": "stream",
     "text": [
      "Karol twoje BMI to 24.691358024691358 i masz dobre BMI\n"
     ]
    }
   ],
   "source": [
    "def bmi(waga,wzrost,imie):\n",
    "    BMI=waga/(wzrost**2)\n",
    "    if BMI<18.49:\n",
    "        zmienna=\"i masz za niskie BMI\"\n",
    "    elif (18.5<BMI and BMI<25):\n",
    "        zmienna=\"i masz dobre BMI\"\n",
    "    else : \n",
    "        zmienna=\"i masz za wysokie BMI\"\n",
    "    print(imie, \"twoje BMI to\", BMI, zmienna)\n",
    "    return\n",
    "waga=80\n",
    "wzrost=1.80\n",
    "imie=\"Karol\"\n",
    "bmi(waga,wzrost,imie)"
   ]
  },
  {
   "cell_type": "markdown",
   "metadata": {},
   "source": [
    "# Zadanie9"
   ]
  },
  {
   "cell_type": "code",
   "execution_count": 47,
   "metadata": {
    "collapsed": false
   },
   "outputs": [
    {
     "name": "stdout",
     "output_type": "stream",
     "text": [
      "Średnia zarobków w dziale Administracja wynosi 1501 zł\n",
      "3\n",
      "Zarobki w dziale Administracja wynoszą 1440.53\n"
     ]
    }
   ],
   "source": [
    "def suma_zarobkow(dzial,kwota):\n",
    "    print(\"Średnia zarobków w dziale\",dzial,\"wynosi\",kwota,\"zł\")\n",
    "    return\n",
    "dzial=\"Administracja\"\n",
    "kwota=round(1500.53)\n",
    "suma_zarobkow(dzial,kwota)\n",
    "listy_zarobkow=[[\"Administracja\",1440.53],[\"finanse\",2064.34],[\"it\",5000.23]]\n",
    "print(len(listy_zarobkow))\n",
    "\n",
    "def suma_zarobkow2(listy_zarobkow,dzial):\n",
    "    for x in range(len(listy_zarobkow)):\n",
    "        if listy_zarobkow[x][0]==dzial:\n",
    "            print(\"Zarobki w dziale\",dzial,\"wynoszą\",listy_zarobkow[x][1])\n",
    "suma_zarobkow2(listy_zarobkow,dzial)            "
   ]
  },
  {
   "cell_type": "markdown",
   "metadata": {},
   "source": [
    "# Zadanie9*"
   ]
  },
  {
   "cell_type": "code",
   "execution_count": 48,
   "metadata": {
    "collapsed": false,
    "scrolled": true
   },
   "outputs": [
    {
     "data": {
      "image/png": "[encoded data removed]",
      "text/plain": [
       "<matplotlib.figure.Figure at 0x7fc60da486d8>"
      ]
     },
     "metadata": {},
     "output_type": "display_data"
    }
   ],
   "source": [
    "import matplotlib.pyplot as plt\n",
    "import numpy as np\n",
    "mu, sigma = 1, 0.5 # mean and standard deviation\n",
    "s = np.random.normal(mu, sigma, 100000)\n",
    "count, bins, ignored = plt.hist(s, 30)\n",
    "plt.plot(bins, 1/(sigma * np.sqrt(2 * np.pi)) * np.exp( - (bins - mu)**2 / (2 * sigma**2) ),linewidth=2, color='r')\n",
    "plt.show()\n",
    "\n",
    "\n"
   ]
  },
  {
   "cell_type": "markdown",
   "metadata": {},
   "source": [
    "# Zadanie 10**"
   ]
  },
  {
   "cell_type": "code",
   "execution_count": 49,
   "metadata": {
    "collapsed": false
   },
   "outputs": [],
   "source": [
    "class Student():\n",
    "    def __init__(self,imie,nazwisko,nr_albumu,lista_ocen,nieobecnosci):\n",
    "        self.imie=imie\n",
    "        self.nazwisko=nazwisko\n",
    "        self.nr_albumu=nr_albumu\n",
    "        self.lista_ocen=lista_ocen\n",
    "        self.nieobecnosci=nieobecnosci\n",
    "        \n",
    "    def srednia(self):\n",
    "        print( sum (self.lista_ocen)/len(self.lista_ocen))\n",
    "    \n",
    "    def ocen(self):\n",
    "        if self.nieobecnosci>2:\n",
    "            ocena='słaba frekwencja'\n",
    "        else :\n",
    "            ocena='dobra frekwencja'\n",
    "        return ocena\n",
    "       \n",
    "    def przedstaw(self):\n",
    "        print (\"{} {} o numerze indeksu {} ma średnią ocen {} i ma {} frekwencję.\".format(self.imie,self.nazwisko,self.nr_albumu,self.srednia(),self.ocen()))\n",
    "    \n",
    "    \n",
    "       "
   ]
  },
  {
   "cell_type": "code",
   "execution_count": 50,
   "metadata": {
    "collapsed": false
   },
   "outputs": [
    {
     "name": "stdout",
     "output_type": "stream",
     "text": [
      "3.25\n",
      "3.25\n",
      "Karol Jankowski o numerze indeksu 260969 ma średnią ocen None i ma dobra frekwencja frekwencję.\n"
     ]
    }
   ],
   "source": [
    "student1=Student(\"Karol\",\"Jankowski\",260969,[3,2,5,3],1)\n",
    "\n",
    "student1.srednia()\n",
    "student1.przedstaw()"
   ]
  },
  {
   "cell_type": "markdown",
   "metadata": {},
   "source": [
    "# Tuple\n"
   ]
  },
  {
   "cell_type": "code",
   "execution_count": 51,
   "metadata": {
    "collapsed": true
   },
   "outputs": [],
   "source": [
    "garaz = (\"audi\",\"bmw\",\"citroen\")"
   ]
  },
  {
   "cell_type": "code",
   "execution_count": 52,
   "metadata": {
    "collapsed": false,
    "scrolled": true
   },
   "outputs": [
    {
     "data": {
      "text/plain": [
       "'citroen'"
      ]
     },
     "execution_count": 52,
     "metadata": {},
     "output_type": "execute_result"
    }
   ],
   "source": [
    "garaz[-1]"
   ]
  },
  {
   "cell_type": "code",
   "execution_count": 53,
   "metadata": {
    "collapsed": false
   },
   "outputs": [
    {
     "ename": "TypeError",
     "evalue": "'tuple' object doesn't support item deletion",
     "output_type": "error",
     "traceback": [
      "\u001b[0;31m---------------------------------------------------------------------------\u001b[0m",
      "\u001b[0;31mTypeError\u001b[0m                                 Traceback (most recent call last)",
      "\u001b[0;32m<ipython-input-53-e3c6277ec4d4>\u001b[0m in \u001b[0;36m<module>\u001b[0;34m()\u001b[0m\n\u001b[0;32m----> 1\u001b[0;31m \u001b[0;32mdel\u001b[0m \u001b[0mgaraz\u001b[0m\u001b[0;34m[\u001b[0m\u001b[0;36m0\u001b[0m\u001b[0;34m]\u001b[0m\u001b[0;34m\u001b[0m\u001b[0m\n\u001b[0m",
      "\u001b[0;31mTypeError\u001b[0m: 'tuple' object doesn't support item deletion"
     ]
    }
   ],
   "source": [
    "del garaz[0]"
   ]
  },
  {
   "cell_type": "markdown",
   "metadata": {},
   "source": []
  },
  {
   "cell_type": "markdown",
   "metadata": {},
   "source": [
    "# Słownik"
   ]
  },
  {
   "cell_type": "code",
   "execution_count": null,
   "metadata": {
    "collapsed": true
   },
   "outputs": [],
   "source": [
    "slownik={}"
   ]
  },
  {
   "cell_type": "code",
   "execution_count": null,
   "metadata": {
    "collapsed": false
   },
   "outputs": [],
   "source": [
    "type(slownik)"
   ]
  },
  {
   "cell_type": "code",
   "execution_count": null,
   "metadata": {
    "collapsed": false
   },
   "outputs": [],
   "source": [
    "slownik = {'Francja': \"Paryż\", \"Polska\":\"Warszawa\",\"Niemcy\":\"Berlin\"}"
   ]
  },
  {
   "cell_type": "code",
   "execution_count": null,
   "metadata": {
    "collapsed": false
   },
   "outputs": [],
   "source": [
    "slownik[\"Polska\"]"
   ]
  },
  {
   "cell_type": "code",
   "execution_count": null,
   "metadata": {
    "collapsed": false
   },
   "outputs": [],
   "source": [
    "slownik = {1: \"Paryż\", 2:\"Warszawa\",5:\"Berlin\"}\n",
    "slownik[2]"
   ]
  },
  {
   "cell_type": "code",
   "execution_count": null,
   "metadata": {
    "collapsed": false
   },
   "outputs": [],
   "source": [
    "slownik.get(1,\"Nieznana stolica\")"
   ]
  },
  {
   "cell_type": "code",
   "execution_count": null,
   "metadata": {
    "collapsed": false
   },
   "outputs": [],
   "source": [
    "slownik[101]"
   ]
  },
  {
   "cell_type": "code",
   "execution_count": null,
   "metadata": {
    "collapsed": false
   },
   "outputs": [],
   "source": [
    "slownik.keys()"
   ]
  },
  {
   "cell_type": "code",
   "execution_count": null,
   "metadata": {
    "collapsed": false
   },
   "outputs": [],
   "source": [
    "slownik.items()"
   ]
  },
  {
   "cell_type": "markdown",
   "metadata": {},
   "source": [
    "# Sety"
   ]
  },
  {
   "cell_type": "code",
   "execution_count": null,
   "metadata": {
    "collapsed": false
   },
   "outputs": [],
   "source": [
    "zbiory = {1,2,3,4}\n",
    "zbiory\n",
    "\n",
    "zbiory = {1,2,3,4,4,4}\n",
    "zbiory"
   ]
  },
  {
   "cell_type": "code",
   "execution_count": null,
   "metadata": {
    "collapsed": false
   },
   "outputs": [],
   "source": [
    "A = {1, 2, 3, 4}\n",
    "B = {3, 4, 5, 6}\n",
    "A&B\n",
    "A|B\n",
    "A-B\n",
    "B-A"
   ]
  },
  {
   "cell_type": "markdown",
   "metadata": {},
   "source": [
    "## Częste zadanie na rozmowie\n"
   ]
  },
  {
   "cell_type": "code",
   "execution_count": null,
   "metadata": {
    "collapsed": false
   },
   "outputs": [],
   "source": [
    "# set nie zawiera powtórzeń, czyli zmiana listy na set pozwala na wyciagniecie unikalnych wartosci\n",
    "lista=[1, 2, 3, 5, 6, 6, 6, 6]\n",
    "set(lista)"
   ]
  },
  {
   "cell_type": "markdown",
   "metadata": {},
   "source": [
    "# Typ none"
   ]
  },
  {
   "cell_type": "code",
   "execution_count": null,
   "metadata": {
    "collapsed": false
   },
   "outputs": [],
   "source": [
    "A= None\n",
    "temperatury=[17,12,20,31,21, None]\n",
    "None in temperatury"
   ]
  },
  {
   "cell_type": "markdown",
   "metadata": {},
   "source": [
    "# Pętle"
   ]
  },
  {
   "cell_type": "markdown",
   "metadata": {},
   "source": [
    "## Pętla for"
   ]
  },
  {
   "cell_type": "code",
   "execution_count": null,
   "metadata": {
    "collapsed": false
   },
   "outputs": [],
   "source": [
    "for element in temperatury:\n",
    "    print(element)"
   ]
  },
  {
   "cell_type": "markdown",
   "metadata": {},
   "source": [
    "## Pętla while"
   ]
  },
  {
   "cell_type": "code",
   "execution_count": null,
   "metadata": {
    "collapsed": false
   },
   "outputs": [],
   "source": [
    "i=0\n",
    "while i<10:\n",
    "    print (i)\n",
    "    i=i+1"
   ]
  },
  {
   "cell_type": "code",
   "execution_count": null,
   "metadata": {
    "collapsed": false
   },
   "outputs": [],
   "source": [
    "for i in range(10):\n",
    "    print(i)"
   ]
  },
  {
   "cell_type": "code",
   "execution_count": null,
   "metadata": {
    "collapsed": false
   },
   "outputs": [],
   "source": [
    "for i in range(1,100,2):\n",
    "    print(i)\n",
    "i"
   ]
  },
  {
   "cell_type": "markdown",
   "metadata": {},
   "source": [
    "## list comprehension"
   ]
  },
  {
   "cell_type": "code",
   "execution_count": null,
   "metadata": {
    "collapsed": true
   },
   "outputs": [],
   "source": [
    "lista_parzystych_compr=[element for element in range(2,8,2)]"
   ]
  },
  {
   "cell_type": "code",
   "execution_count": null,
   "metadata": {
    "collapsed": false
   },
   "outputs": [],
   "source": [
    "print(lista_parzystych_compr)"
   ]
  },
  {
   "cell_type": "code",
   "execution_count": null,
   "metadata": {
    "collapsed": false
   },
   "outputs": [],
   "source": []
  },
  {
   "cell_type": "code",
   "execution_count": null,
   "metadata": {
    "collapsed": false
   },
   "outputs": [],
   "source": []
  },
  {
   "cell_type": "code",
   "execution_count": null,
   "metadata": {
    "collapsed": false
   },
   "outputs": [],
   "source": [
    "import numpy as np\n",
    "import matplotlib.pyplot as plt\n",
    "\n",
    "plt.style.use('seaborn') # pretty matplotlib plots\n",
    "plt.rcParams['figure.figsize'] = (12, 8)\n",
    "\n",
    "x = np.linspace(-5, 5, 5000)\n",
    "mu = 0\n",
    "sigma = 1\n",
    "\n",
    "y = (1 / (np.sqrt(2 * np.pi * np.power(sigma, 2)))) * (np.power(np.e, -(np.power((x - mu), 2) / (2 * np.power(sigma, 2)))))\n",
    "\n",
    "plt.plot(x, y)\n",
    "plt.show()\n"
   ]
  },
  {
   "cell_type": "code",
   "execution_count": null,
   "metadata": {
    "collapsed": true
   },
   "outputs": [],
   "source": []
  }
 ],
 "metadata": {
  "kernelspec": {
   "display_name": "Python 3",
   "language": "python",
   "name": "python3"
  },
  "language_info": {
   "codemirror_mode": {
    "name": "ipython",
    "version": 3
   },
   "file_extension": ".py",
   "mimetype": "text/x-python",
   "name": "python",
   "nbconvert_exporter": "python",
   "pygments_lexer": "ipython3",
   "version": "3.6.6"
  }
 },
 "nbformat": 4,
 "nbformat_minor": 2
}
