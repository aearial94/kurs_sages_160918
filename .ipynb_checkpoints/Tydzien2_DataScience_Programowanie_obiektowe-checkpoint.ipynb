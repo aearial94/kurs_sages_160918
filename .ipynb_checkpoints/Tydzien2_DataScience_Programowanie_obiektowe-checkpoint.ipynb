{
 "cells": [
  {
   "cell_type": "markdown",
   "metadata": {
    "collapsed": true
   },
   "source": [
    "# Programowanie obiektowe"
   ]
  },
  {
   "cell_type": "markdown",
   "metadata": {},
   "source": [
    "* Pola/Atrybuty to tak naprawde zmienne.\n",
    "* Metody to funkcje.\n",
    "\n",
    "## Przykład1:\n",
    "* "
   ]
  },
  {
   "cell_type": "markdown",
   "metadata": {},
   "source": [
    "### Definiowanie klasy"
   ]
  },
  {
   "cell_type": "code",
   "execution_count": null,
   "metadata": {
    "collapsed": true
   },
   "outputs": [],
   "source": []
  },
  {
   "cell_type": "code",
   "execution_count": null,
   "metadata": {
    "collapsed": true
   },
   "outputs": [],
   "source": []
  },
  {
   "cell_type": "code",
   "execution_count": null,
   "metadata": {
    "collapsed": true
   },
   "outputs": [],
   "source": [
    "class Czlowiek: \n",
    "    pass "
   ]
  },
  {
   "cell_type": "code",
   "execution_count": 1,
   "metadata": {
    "collapsed": true
   },
   "outputs": [],
   "source": [
    "class Czlowiek:\n",
    "\n",
    "    # Ponizej definicja konstruktora\n",
    "\n",
    "    def __init__(self, imie, nazwisko, waga):\n",
    "\n",
    "        self.imie = imie\n",
    "\n",
    "        self.nazwisko = nazwisko\n",
    "\n",
    "        self.waga = waga\n",
    "        "
   ]
  },
  {
   "cell_type": "code",
   "execution_count": 12,
   "metadata": {
    "collapsed": true
   },
   "outputs": [],
   "source": [
    "class Czlowiek:\n",
    "    def __init__(self,imie,nazwisko,waga,wzrost):\n",
    "        self.imie = imie\n",
    "        self.nazwisko= nazwisko\n",
    "        self.waga = waga\n",
    "        self.wzrost = wzrost\n",
    "    def BMI(self):\n",
    "        wylicz=self.waga/((self.wzrost/100)**2)\n",
    "        print (\"{} twoje BMI wynosi {}\".format(self.imie, wylicz))\n",
    "        return (wylicz)"
   ]
  },
  {
   "cell_type": "code",
   "execution_count": 13,
   "metadata": {
    "collapsed": true
   },
   "outputs": [],
   "source": [
    "obiekt_karol=Czlowiek('karol','jankowski',90,180)"
   ]
  },
  {
   "cell_type": "code",
   "execution_count": 14,
   "metadata": {
    "collapsed": false
   },
   "outputs": [
    {
     "name": "stdout",
     "output_type": "stream",
     "text": [
      "karol twoje BMI wynosi 27.777777777777775\n"
     ]
    },
    {
     "data": {
      "text/plain": [
       "27.777777777777775"
      ]
     },
     "execution_count": 14,
     "metadata": {},
     "output_type": "execute_result"
    }
   ],
   "source": [
    "obiekt_karol.BMI()"
   ]
  },
  {
   "cell_type": "code",
   "execution_count": 50,
   "metadata": {
    "collapsed": false
   },
   "outputs": [],
   "source": [
    "class Czlowiek:\n",
    "    def __init__(self,imie,nazwisko,waga,wzrost):\n",
    "        self.imie = imie\n",
    "        self.nazwisko= nazwisko\n",
    "        self.waga = waga\n",
    "        self.wzrost = wzrost\n",
    "        \n",
    "    @property \n",
    "    def BMI(self):\n",
    "        wylicz=self.waga/((self.wzrost/100)**2)\n",
    "        print (\"{} twoje BMI wynosi {}\".format(self.imie, wylicz))\n",
    "        return (wylicz)\n",
    "    def przedstaw(self):\n",
    "        print('Nazywasz się {} {}'.format(self.imie,self.nazwisko))\n",
    "        \n",
    "    def __repr__(self):\n",
    "        return 'Obiekt klasy {}'.format(self.__class__)"
   ]
  },
  {
   "cell_type": "code",
   "execution_count": 51,
   "metadata": {
    "collapsed": false
   },
   "outputs": [],
   "source": [
    "obiekt_karol=Czlowiek('karol','jankowski',90,180)"
   ]
  },
  {
   "cell_type": "code",
   "execution_count": 52,
   "metadata": {
    "collapsed": false
   },
   "outputs": [
    {
     "name": "stdout",
     "output_type": "stream",
     "text": [
      "karol twoje BMI wynosi 27.777777777777775\n"
     ]
    },
    {
     "data": {
      "text/plain": [
       "27.777777777777775"
      ]
     },
     "execution_count": 52,
     "metadata": {},
     "output_type": "execute_result"
    }
   ],
   "source": [
    "obiekt_karol.BMI"
   ]
  },
  {
   "cell_type": "code",
   "execution_count": 48,
   "metadata": {
    "collapsed": false
   },
   "outputs": [
    {
     "name": "stdout",
     "output_type": "stream",
     "text": [
      "Nazywasz się karol jankowski\n"
     ]
    }
   ],
   "source": [
    "obiekt_karol.przedstaw()"
   ]
  },
  {
   "cell_type": "code",
   "execution_count": 53,
   "metadata": {
    "collapsed": false
   },
   "outputs": [
    {
     "data": {
      "text/plain": [
       "\"Obiekt klasy <class '__main__.Czlowiek'>\""
      ]
     },
     "execution_count": 53,
     "metadata": {},
     "output_type": "execute_result"
    }
   ],
   "source": [
    "obiekt_karol.__repr__()"
   ]
  },
  {
   "cell_type": "code",
   "execution_count": 54,
   "metadata": {
    "collapsed": false
   },
   "outputs": [
    {
     "data": {
      "text/plain": [
       "\"Obiekt klasy <class '__main__.Czlowiek'>\""
      ]
     },
     "execution_count": 54,
     "metadata": {},
     "output_type": "execute_result"
    }
   ],
   "source": [
    "repr(obiekt_karol)"
   ]
  },
  {
   "cell_type": "code",
   "execution_count": 77,
   "metadata": {
    "collapsed": false
   },
   "outputs": [],
   "source": [
    "class Samochod:\n",
    "\n",
    "    ILOSC_KOL = 4\n",
    "    LITRY_NA_GALON=3.78541178\n",
    "    KILOMETROW_NA_MILE=1.609344\n",
    "\n",
    "    def __init__(self, marka, model, kolor, przebieg, moc):\n",
    "\n",
    "        self.marka = marka\n",
    "\n",
    "        self.model = model\n",
    "\n",
    "        self.kolor = kolor\n",
    "\n",
    "        self.przebieg = przebieg\n",
    "\n",
    "        self.moc = moc\n",
    "\n",
    "    def wyswietl_przebieg(self):\n",
    "        print(self.przebieg)\n",
    "    @staticmethod\n",
    "    def konwertuj_mile_na_galon_nalna100km(self,mile_na_galon):\n",
    "        return (100*Samochod.LITRY_NA_GALON/(Samochod.KILOMETROW_NA_MILE*mile_na_galon))\n",
    "\n",
    "    @property\n",
    "\n",
    "    def pelna_nazwa(self):\n",
    "\n",
    "        return \"To jest {} {}\".format(self.marka, self.model)\n",
    "\n",
    "    \n",
    "\n",
    "    # metody specjalne __str__\n",
    "\n",
    "    def __str__(self):\n",
    "\n",
    "        return self.pelna_nazwa\n",
    "\n",
    "    \n",
    "\n",
    "    def __repr__(self):\n",
    "\n",
    "        return \"Obiekt klasy: {}, marka: {}. model {}\".format(\n",
    "\n",
    "            self.__class__,\n",
    "\n",
    "            self.marka,\n",
    "\n",
    "            self.model\n",
    "\n",
    "        )\n",
    "\n",
    "    \n",
    "\n",
    "    def __gt__(self, other):\n",
    "\n",
    "        return self.przebieg > other.przebieg\n",
    "\n",
    "    \n"
   ]
  },
  {
   "cell_type": "code",
   "execution_count": 78,
   "metadata": {
    "collapsed": false
   },
   "outputs": [],
   "source": [
    "scania = Samochod('scania','cos', 'czerwony', 2000, 350)\n",
    "\n",
    "mazda = Samochod('mazda','6', 'czerwony', 13000, 165)"
   ]
  },
  {
   "cell_type": "code",
   "execution_count": 58,
   "metadata": {
    "collapsed": false
   },
   "outputs": [
    {
     "name": "stdout",
     "output_type": "stream",
     "text": [
      "13000\n"
     ]
    }
   ],
   "source": [
    "mazda.wyswietl_przebieg()"
   ]
  },
  {
   "cell_type": "code",
   "execution_count": 80,
   "metadata": {
    "collapsed": false
   },
   "outputs": [
    {
     "data": {
      "text/plain": [
       "235.21458308478483"
      ]
     },
     "execution_count": 80,
     "metadata": {},
     "output_type": "execute_result"
    }
   ],
   "source": [
    "mazda.konwertuj_mile_na_galon_nalna100km(1)"
   ]
  },
  {
   "cell_type": "code",
   "execution_count": 81,
   "metadata": {
    "collapsed": false
   },
   "outputs": [
    {
     "name": "stdout",
     "output_type": "stream",
     "text": [
      "Help on class Samochod in module __main__:\n",
      "\n",
      "class Samochod(builtins.object)\n",
      " |  Methods defined here:\n",
      " |  \n",
      " |  __gt__(self, other)\n",
      " |      Return self>value.\n",
      " |  \n",
      " |  __init__(self, marka, model, kolor, przebieg, moc)\n",
      " |      Initialize self.  See help(type(self)) for accurate signature.\n",
      " |  \n",
      " |  __repr__(self)\n",
      " |      Return repr(self).\n",
      " |  \n",
      " |  __str__(self)\n",
      " |      Return str(self).\n",
      " |  \n",
      " |  konwertuj_mile_na_galon_nalna100km(self, mile_na_galon)\n",
      " |  \n",
      " |  wyswietl_przebieg(self)\n",
      " |  \n",
      " |  ----------------------------------------------------------------------\n",
      " |  Data descriptors defined here:\n",
      " |  \n",
      " |  __dict__\n",
      " |      dictionary for instance variables (if defined)\n",
      " |  \n",
      " |  __weakref__\n",
      " |      list of weak references to the object (if defined)\n",
      " |  \n",
      " |  pelna_nazwa\n",
      " |  \n",
      " |  ----------------------------------------------------------------------\n",
      " |  Data and other attributes defined here:\n",
      " |  \n",
      " |  ILOSC_KOL = 4\n",
      " |  \n",
      " |  KILOMETROW_NA_MILE = 1.609344\n",
      " |  \n",
      " |  LITRY_NA_GALON = 3.78541178\n",
      "\n"
     ]
    }
   ],
   "source": [
    "help(Samochod)"
   ]
  },
  {
   "cell_type": "code",
   "execution_count": null,
   "metadata": {
    "collapsed": true
   },
   "outputs": [],
   "source": []
  }
 ],
 "metadata": {
  "kernelspec": {
   "display_name": "Python 3",
   "language": "python",
   "name": "python3"
  },
  "language_info": {
   "codemirror_mode": {
    "name": "ipython",
    "version": 3
   },
   "file_extension": ".py",
   "mimetype": "text/x-python",
   "name": "python",
   "nbconvert_exporter": "python",
   "pygments_lexer": "ipython3",
   "version": "3.6.0"
  }
 },
 "nbformat": 4,
 "nbformat_minor": 2
}
