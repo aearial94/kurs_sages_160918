{
 "cells": [
  {
   "cell_type": "markdown",
   "metadata": {},
   "source": [
    "# Zadania z numpy "
   ]
  },
  {
   "cell_type": "code",
   "execution_count": 237,
   "metadata": {
    "collapsed": true
   },
   "outputs": [],
   "source": [
    "import numpy as np"
   ]
  },
  {
   "cell_type": "markdown",
   "metadata": {},
   "source": [
    "## Zadanie 1.1"
   ]
  },
  {
   "cell_type": "code",
   "execution_count": 12,
   "metadata": {
    "collapsed": false
   },
   "outputs": [],
   "source": [
    "wektor1 = np.random.seed(123)\n",
    "wektor1 = np.random.uniform(-4, 4, 30)"
   ]
  },
  {
   "cell_type": "code",
   "execution_count": 33,
   "metadata": {
    "collapsed": false
   },
   "outputs": [
    {
     "data": {
      "text/plain": [
       "array([ 1.57175348, -1.71088532,  1.75575176,  1.47863791, -1.25457587,\n",
       "        1.83239766,  1.90396325,  1.07520767,  1.7956426 ,  1.77954706,\n",
       "       -1.41632869, -1.10569076, -1.65028763,  1.04780899])"
      ]
     },
     "execution_count": 33,
     "metadata": {},
     "output_type": "execute_result"
    }
   ],
   "source": [
    "wektor1[((wektor1>-2))&(wektor1<-1) | ((wektor1<2)&(wektor1>1))]"
   ]
  },
  {
   "cell_type": "code",
   "execution_count": 34,
   "metadata": {
    "collapsed": false
   },
   "outputs": [
    {
     "data": {
      "text/plain": [
       "15"
      ]
     },
     "execution_count": 34,
     "metadata": {},
     "output_type": "execute_result"
    }
   ],
   "source": [
    "wektor1[(wektor1>=0)].size"
   ]
  },
  {
   "cell_type": "code",
   "execution_count": 36,
   "metadata": {
    "collapsed": false
   },
   "outputs": [
    {
     "data": {
      "text/plain": [
       "15"
      ]
     },
     "execution_count": 36,
     "metadata": {},
     "output_type": "execute_result"
    }
   ],
   "source": [
    "np.sum(wektor1>=0)"
   ]
  },
  {
   "cell_type": "code",
   "execution_count": 32,
   "metadata": {
    "collapsed": false
   },
   "outputs": [
    {
     "data": {
      "text/plain": [
       "1.5260572308400788"
      ]
     },
     "execution_count": 32,
     "metadata": {},
     "output_type": "execute_result"
    }
   ],
   "source": [
    "np.sum(np.absolute(wektor1))/wektor1.size"
   ]
  },
  {
   "cell_type": "code",
   "execution_count": 37,
   "metadata": {
    "collapsed": false
   },
   "outputs": [
    {
     "data": {
      "text/plain": [
       "1.5260572308400788"
      ]
     },
     "execution_count": 37,
     "metadata": {},
     "output_type": "execute_result"
    }
   ],
   "source": [
    "np.mean(np.abs(wektor1))"
   ]
  },
  {
   "cell_type": "code",
   "execution_count": 51,
   "metadata": {
    "collapsed": false
   },
   "outputs": [
    {
     "data": {
      "text/plain": [
       "-3.5225768271234532"
      ]
     },
     "execution_count": 51,
     "metadata": {},
     "output_type": "execute_result"
    }
   ],
   "source": [
    "np.min((wektor1))"
   ]
  },
  {
   "cell_type": "code",
   "execution_count": 42,
   "metadata": {
    "collapsed": false
   },
   "outputs": [
    {
     "data": {
      "text/plain": [
       "3.8461135870769239"
      ]
     },
     "execution_count": 42,
     "metadata": {},
     "output_type": "execute_result"
    }
   ],
   "source": [
    "np.max(wektor1)"
   ]
  },
  {
   "cell_type": "markdown",
   "metadata": {},
   "source": [
    "### Wyznacz​ ​ wartość​ ​ najbliższą​ ​ i ​ ​ najdalsza​ ​ od​ ​ 0 ​ ​ (zachowując​ ​ jej​ ​ znak),"
   ]
  },
  {
   "cell_type": "code",
   "execution_count": 60,
   "metadata": {
    "collapsed": false
   },
   "outputs": [
    {
     "data": {
      "text/plain": [
       "(-0.15254478812511252, 3.8461135870769239)"
      ]
     },
     "execution_count": 60,
     "metadata": {},
     "output_type": "execute_result"
    }
   ],
   "source": [
    "odleglosc = np.abs(wektor1-0)\n",
    "odleglosc\n",
    "np.argmin(odleglosc), np.argmax(odleglosc)\n",
    "wektor1[np.argmin(odleglosc)] , wektor1[np.argmax(odleglosc)]"
   ]
  },
  {
   "cell_type": "markdown",
   "metadata": {},
   "source": [
    "### Wyznacz​ ​ wartość​ ​ najbliższą​ ​ i ​ ​ najdalsza​ ​ od​ ​ 2 ​ ​ (zachowując​ ​ jej​ ​ znak)"
   ]
  },
  {
   "cell_type": "code",
   "execution_count": 62,
   "metadata": {
    "collapsed": false
   },
   "outputs": [
    {
     "data": {
      "text/plain": [
       "(1.9039632458562856, -3.5225768271234532)"
      ]
     },
     "execution_count": 62,
     "metadata": {},
     "output_type": "execute_result"
    }
   ],
   "source": [
    "odleglosc2 = np.abs(wektor1-2)\n",
    "wektor1[np.argmin(odleglosc2)] , wektor1[np.argmax(odleglosc2)]"
   ]
  },
  {
   "cell_type": "markdown",
   "metadata": {},
   "source": [
    "### Wypisz na ekran część ułamkową wszystkich elementów"
   ]
  },
  {
   "cell_type": "code",
   "execution_count": 64,
   "metadata": {
    "collapsed": false
   },
   "outputs": [
    {
     "data": {
      "text/plain": [
       "array([ 0.57175348, -0.71088532, -0.18518837,  0.41051815,  0.75575176,\n",
       "       -0.61514832,  0.84611359,  0.47863791, -0.15254479, -0.86305985,\n",
       "       -0.25457587,  0.83239766, -0.49142204, -0.52257683, -0.81564596,\n",
       "        0.90396325, -0.54006616, -0.59638595,  0.25241099,  0.2546207 ,\n",
       "        0.07520767,  0.79545435,  0.7956426 ,  0.88818809,  0.77954706,\n",
       "       -0.41632869, -0.10569076, -0.17389415, -0.65028763,  0.04780899])"
      ]
     },
     "execution_count": 64,
     "metadata": {},
     "output_type": "execute_result"
    }
   ],
   "source": [
    "wektor1-wektor1.astype(int)"
   ]
  },
  {
   "cell_type": "code",
   "execution_count": 67,
   "metadata": {
    "collapsed": false
   },
   "outputs": [
    {
     "data": {
      "text/plain": [
       "(array([ 0.57175348, -0.71088532, -0.18518837,  0.41051815,  0.75575176,\n",
       "        -0.61514832,  0.84611359,  0.47863791, -0.15254479, -0.86305985,\n",
       "        -0.25457587,  0.83239766, -0.49142204, -0.52257683, -0.81564596,\n",
       "         0.90396325, -0.54006616, -0.59638595,  0.25241099,  0.2546207 ,\n",
       "         0.07520767,  0.79545435,  0.7956426 ,  0.88818809,  0.77954706,\n",
       "        -0.41632869, -0.10569076, -0.17389415, -0.65028763,  0.04780899]),\n",
       " array([ 1., -1., -2.,  0.,  1., -0.,  3.,  1., -0., -0., -1.,  1., -0.,\n",
       "        -3., -0.,  1., -2., -2.,  0.,  0.,  1.,  2.,  1.,  0.,  1., -1.,\n",
       "        -1., -2., -1.,  1.]))"
      ]
     },
     "execution_count": 67,
     "metadata": {},
     "output_type": "execute_result"
    }
   ],
   "source": [
    "np.modf(wektor1)"
   ]
  },
  {
   "cell_type": "code",
   "execution_count": 68,
   "metadata": {
    "collapsed": false
   },
   "outputs": [
    {
     "data": {
      "text/plain": [
       "array([ 0.57175348, -0.71088532, -0.18518837,  0.41051815,  0.75575176,\n",
       "       -0.61514832,  0.84611359,  0.47863791, -0.15254479, -0.86305985,\n",
       "       -0.25457587,  0.83239766, -0.49142204, -0.52257683, -0.81564596,\n",
       "        0.90396325, -0.54006616, -0.59638595,  0.25241099,  0.2546207 ,\n",
       "        0.07520767,  0.79545435,  0.7956426 ,  0.88818809,  0.77954706,\n",
       "       -0.41632869, -0.10569076, -0.17389415, -0.65028763,  0.04780899])"
      ]
     },
     "execution_count": 68,
     "metadata": {},
     "output_type": "execute_result"
    }
   ],
   "source": [
    "np.modf(wektor1)[0]"
   ]
  },
  {
   "cell_type": "code",
   "execution_count": 69,
   "metadata": {
    "collapsed": false
   },
   "outputs": [
    {
     "data": {
      "text/plain": [
       "array([ 1., -1., -2.,  0.,  1., -0.,  3.,  1., -0., -0., -1.,  1., -0.,\n",
       "       -3., -0.,  1., -2., -2.,  0.,  0.,  1.,  2.,  1.,  0.,  1., -1.,\n",
       "       -1., -2., -1.,  1.])"
      ]
     },
     "execution_count": 69,
     "metadata": {},
     "output_type": "execute_result"
    }
   ],
   "source": [
    "np.modf(wektor1)[1]"
   ]
  },
  {
   "cell_type": "code",
   "execution_count": 71,
   "metadata": {
    "collapsed": false
   },
   "outputs": [
    {
     "data": {
      "text/plain": [
       "array([ 0.57175348, -0.71088532, -0.18518837,  0.41051815,  0.75575176,\n",
       "       -0.61514832,  0.84611359,  0.47863791, -0.15254479, -0.86305985,\n",
       "       -0.25457587,  0.83239766, -0.49142204, -0.52257683, -0.81564596,\n",
       "        0.90396325, -0.54006616, -0.59638595,  0.25241099,  0.2546207 ,\n",
       "        0.07520767,  0.79545435,  0.7956426 ,  0.88818809,  0.77954706,\n",
       "       -0.41632869, -0.10569076, -0.17389415, -0.65028763,  0.04780899])"
      ]
     },
     "execution_count": 71,
     "metadata": {},
     "output_type": "execute_result"
    }
   ],
   "source": [
    "wektor1 - np.trunc(wektor1)"
   ]
  },
  {
   "cell_type": "markdown",
   "metadata": {},
   "source": [
    "### H. Postać znormalizowana do 1"
   ]
  },
  {
   "cell_type": "code",
   "execution_count": 73,
   "metadata": {
    "collapsed": false
   },
   "outputs": [
    {
     "data": {
      "text/plain": [
       "array([ 0.38269625, -0.50827314, -0.63700783,  0.06751533,  0.43263682,\n",
       "       -0.21086968,  1.        ,  0.35742295, -0.08531046, -0.2781575 ,\n",
       "       -0.38442224,  0.45343994, -0.17728806, -1.        , -0.26528848,\n",
       "        0.47286418, -0.73332828, -0.74861452,  0.02460209,  0.02520185,\n",
       "        0.24792446,  0.71483149,  0.44346393,  0.19716386,  0.4390953 ,\n",
       "       -0.42832498, -0.34401205, -0.63394237, -0.49182579,  0.24048795])"
      ]
     },
     "execution_count": 73,
     "metadata": {},
     "output_type": "execute_result"
    }
   ],
   "source": [
    "((wektor1-np.min(wektor1))/(np.max(wektor1)-np.min(wektor1)))*2-1"
   ]
  },
  {
   "cell_type": "markdown",
   "metadata": {},
   "source": [
    "### I. Średnia​ ​ wartość​ ​ kwadratów​ ​ liczb​ ​ większych​ ​ od​ ​ 3 ​ ​ lub​ ​ mniejszych​ ​ od​ ​ -2"
   ]
  },
  {
   "cell_type": "code",
   "execution_count": 80,
   "metadata": {
    "collapsed": false
   },
   "outputs": [
    {
     "data": {
      "text/plain": [
       "8.3158595532060584"
      ]
     },
     "execution_count": 80,
     "metadata": {},
     "output_type": "execute_result"
    }
   ],
   "source": [
    "np.mean(wektor1[(wektor1>3) | (wektor1<-2)]**2)"
   ]
  },
  {
   "cell_type": "markdown",
   "metadata": {},
   "source": [
    "### J."
   ]
  },
  {
   "cell_type": "code",
   "execution_count": 96,
   "metadata": {
    "collapsed": false
   },
   "outputs": [
    {
     "data": {
      "text/plain": [
       "array(['nieujemna', 'ujemna', 'ujemna', 'nieujemna', 'nieujemna', 'ujemna',\n",
       "       'nieujemna', 'nieujemna', 'ujemna', 'ujemna', 'ujemna', 'nieujemna',\n",
       "       'ujemna', 'ujemna', 'ujemna', 'nieujemna', 'ujemna', 'ujemna',\n",
       "       'nieujemna', 'nieujemna', 'nieujemna', 'nieujemna', 'nieujemna',\n",
       "       'nieujemna', 'nieujemna', 'ujemna', 'ujemna', 'ujemna', 'ujemna',\n",
       "       'nieujemna'], \n",
       "      dtype='<U9')"
      ]
     },
     "execution_count": 96,
     "metadata": {},
     "output_type": "execute_result"
    }
   ],
   "source": [
    "w=wektor1>=0\n",
    "w.astype(int)\n",
    "np.array(['ujemna','nieujemna'])[w.astype(int)]"
   ]
  },
  {
   "cell_type": "code",
   "execution_count": 86,
   "metadata": {
    "collapsed": false
   },
   "outputs": [
    {
     "data": {
      "text/plain": [
       "array(['nieujemna', 'ujemna', 'ujemna', 'nieujemna', 'nieujemna', 'ujemna',\n",
       "       'nieujemna', 'nieujemna', 'ujemna', 'ujemna', 'ujemna', 'nieujemna',\n",
       "       'ujemna', 'ujemna', 'ujemna', 'nieujemna', 'ujemna', 'ujemna',\n",
       "       'nieujemna', 'nieujemna', 'nieujemna', 'nieujemna', 'nieujemna',\n",
       "       'nieujemna', 'nieujemna', 'ujemna', 'ujemna', 'ujemna', 'ujemna',\n",
       "       'nieujemna'], \n",
       "      dtype='<U9')"
      ]
     },
     "execution_count": 86,
     "metadata": {},
     "output_type": "execute_result"
    }
   ],
   "source": [
    "np.where(wektor1<0, 'ujemna', 'nieujemna')"
   ]
  },
  {
   "cell_type": "markdown",
   "metadata": {},
   "source": [
    "### O. "
   ]
  },
  {
   "cell_type": "code",
   "execution_count": 97,
   "metadata": {
    "collapsed": false
   },
   "outputs": [
    {
     "data": {
      "text/plain": [
       "array([ 1.5, -1.5, -2.5,  0.5,  1.5, -0.5,  3.5,  1.5, -0.5, -0.5, -1.5,\n",
       "        1.5, -0.5, -3.5, -0.5,  1.5, -2.5, -2.5,  0.5,  0.5,  1.5,  2.5,\n",
       "        1.5,  0.5,  1.5, -1.5, -1.5, -2.5, -1.5,  1.5])"
      ]
     },
     "execution_count": 97,
     "metadata": {},
     "output_type": "execute_result"
    }
   ],
   "source": [
    "np.floor(wektor1)+0.5"
   ]
  },
  {
   "cell_type": "markdown",
   "metadata": {},
   "source": [
    "# 1.2"
   ]
  },
  {
   "cell_type": "markdown",
   "metadata": {},
   "source": [
    "### A."
   ]
  },
  {
   "cell_type": "code",
   "execution_count": 99,
   "metadata": {
    "collapsed": true
   },
   "outputs": [],
   "source": [
    "x = np.array([1,2,3,4,5,6,7,8,9,10])\n",
    "y = np.array([10,9,8,7,6,5,4,3,2,1])"
   ]
  },
  {
   "cell_type": "code",
   "execution_count": 102,
   "metadata": {
    "collapsed": false
   },
   "outputs": [],
   "source": [
    "r = (np.sum((x-np.mean(x))*(y-np.mean(y))))"
   ]
  },
  {
   "cell_type": "code",
   "execution_count": 111,
   "metadata": {
    "collapsed": false
   },
   "outputs": [],
   "source": [
    "p=(np.sum(np.sqrt((x-np.mean(x))**2))*(np.sum(np.sqrt((y-np.mean(y))**2))))"
   ]
  },
  {
   "cell_type": "raw",
   "metadata": {},
   "source": [
    "r/p"
   ]
  },
  {
   "cell_type": "code",
   "execution_count": 112,
   "metadata": {
    "collapsed": false
   },
   "outputs": [],
   "source": [
    "x_mean=np.mean(x)\n",
    "y_mean=np.mean(y)"
   ]
  },
  {
   "cell_type": "code",
   "execution_count": 114,
   "metadata": {
    "collapsed": true
   },
   "outputs": [],
   "source": [
    "iloczyny = roznice_x*roznice_y\n",
    "licznik = np.sum(iloczyny)\n",
    "roznice_x2 = roznice_x**2\n",
    "roznice_y2= roznice_y**2\n",
    "mianownik = np.sqrt(np.sum(roznice_x2))*np.sum()"
   ]
  },
  {
   "cell_type": "code",
   "execution_count": 113,
   "metadata": {
    "collapsed": true
   },
   "outputs": [],
   "source": [
    "roznice_x= x- x_mean\n",
    "roznice_y = y - y_mean"
   ]
  },
  {
   "cell_type": "markdown",
   "metadata": {},
   "source": [
    "### Zadanie 1.3"
   ]
  },
  {
   "cell_type": "code",
   "execution_count": 115,
   "metadata": {
    "collapsed": true
   },
   "outputs": [],
   "source": [
    "x = np. random.uniform(-3,7,30)"
   ]
  },
  {
   "cell_type": "code",
   "execution_count": 117,
   "metadata": {
    "collapsed": false
   },
   "outputs": [
    {
     "data": {
      "text/plain": [
       "2.1232627633763834"
      ]
     },
     "execution_count": 117,
     "metadata": {},
     "output_type": "execute_result"
    }
   ],
   "source": [
    "np.mean(x)"
   ]
  },
  {
   "cell_type": "code",
   "execution_count": 118,
   "metadata": {
    "collapsed": false
   },
   "outputs": [
    {
     "data": {
      "text/plain": [
       "2.3983528982612663"
      ]
     },
     "execution_count": 118,
     "metadata": {},
     "output_type": "execute_result"
    }
   ],
   "source": [
    "np.std(x)"
   ]
  },
  {
   "cell_type": "code",
   "execution_count": 124,
   "metadata": {
    "collapsed": false
   },
   "outputs": [
    {
     "data": {
      "text/plain": [
       "2.3983528982612663"
      ]
     },
     "execution_count": 124,
     "metadata": {},
     "output_type": "execute_result"
    }
   ],
   "source": [
    "np.sqrt(np.var(x))"
   ]
  },
  {
   "cell_type": "code",
   "execution_count": 121,
   "metadata": {
    "collapsed": false
   },
   "outputs": [],
   "source": [
    "d = (x - np.mean(x))/np.std(x)"
   ]
  },
  {
   "cell_type": "code",
   "execution_count": 122,
   "metadata": {
    "collapsed": false
   },
   "outputs": [
    {
     "data": {
      "text/plain": [
       "-6.881069788041335e-18"
      ]
     },
     "execution_count": 122,
     "metadata": {},
     "output_type": "execute_result"
    }
   ],
   "source": [
    "np.mean(d)"
   ]
  },
  {
   "cell_type": "code",
   "execution_count": 123,
   "metadata": {
    "collapsed": false
   },
   "outputs": [
    {
     "data": {
      "text/plain": [
       "1.0000000000000002"
      ]
     },
     "execution_count": 123,
     "metadata": {},
     "output_type": "execute_result"
    }
   ],
   "source": [
    "np.std(d)"
   ]
  },
  {
   "cell_type": "markdown",
   "metadata": {},
   "source": [
    "### Zadanie 1.4"
   ]
  },
  {
   "cell_type": "code",
   "execution_count": 125,
   "metadata": {
    "collapsed": true
   },
   "outputs": [],
   "source": [
    "x = np. random.uniform(-3,7,30)\n",
    "y = np. random.uniform(-3,2,30)"
   ]
  },
  {
   "cell_type": "code",
   "execution_count": 126,
   "metadata": {
    "collapsed": false
   },
   "outputs": [
    {
     "data": {
      "text/plain": [
       "-35.168358154081432"
      ]
     },
     "execution_count": 126,
     "metadata": {},
     "output_type": "execute_result"
    }
   ],
   "source": [
    "np.dot(x,y)"
   ]
  },
  {
   "cell_type": "code",
   "execution_count": 127,
   "metadata": {
    "collapsed": false
   },
   "outputs": [
    {
     "data": {
      "text/plain": [
       "-35.168358154081432"
      ]
     },
     "execution_count": 127,
     "metadata": {},
     "output_type": "execute_result"
    }
   ],
   "source": [
    "np.matmul(np.matrix.transpose(x),y)"
   ]
  },
  {
   "cell_type": "code",
   "execution_count": 128,
   "metadata": {
    "collapsed": false
   },
   "outputs": [
    {
     "data": {
      "text/plain": [
       "-35.168358154081432"
      ]
     },
     "execution_count": 128,
     "metadata": {},
     "output_type": "execute_result"
    }
   ],
   "source": [
    "np.matmul(x,y)"
   ]
  },
  {
   "cell_type": "markdown",
   "metadata": {},
   "source": [
    "### Zadanie 1.5 1.6 1.7"
   ]
  },
  {
   "cell_type": "code",
   "execution_count": 129,
   "metadata": {
    "collapsed": true
   },
   "outputs": [],
   "source": [
    "np.random.seed(123)\n",
    "x = np.random.normal(size=10)\n",
    "y=x+2"
   ]
  },
  {
   "cell_type": "code",
   "execution_count": 132,
   "metadata": {
    "collapsed": false
   },
   "outputs": [
    {
     "data": {
      "text/plain": [
       "2.0"
      ]
     },
     "execution_count": 132,
     "metadata": {},
     "output_type": "execute_result"
    }
   ],
   "source": [
    "np.sqrt((np.sum((y-x)**2)/x.size))"
   ]
  },
  {
   "cell_type": "code",
   "execution_count": 133,
   "metadata": {
    "collapsed": false
   },
   "outputs": [
    {
     "data": {
      "text/plain": [
       "2.0"
      ]
     },
     "execution_count": 133,
     "metadata": {},
     "output_type": "execute_result"
    }
   ],
   "source": [
    "np.sum(np.abs(y-x))/x.size"
   ]
  },
  {
   "cell_type": "code",
   "execution_count": 134,
   "metadata": {
    "collapsed": false
   },
   "outputs": [
    {
     "data": {
      "text/plain": [
       "2.0"
      ]
     },
     "execution_count": 134,
     "metadata": {},
     "output_type": "execute_result"
    }
   ],
   "source": [
    "np.median(y-x)"
   ]
  },
  {
   "cell_type": "markdown",
   "metadata": {},
   "source": [
    "### Zadanie 1.8"
   ]
  },
  {
   "cell_type": "code",
   "execution_count": 137,
   "metadata": {
    "collapsed": true
   },
   "outputs": [],
   "source": [
    "x = np.random.uniform(-3,7,30).astype(int)\n",
    "y = np.random.uniform(-3,2,30).astype(int)"
   ]
  },
  {
   "cell_type": "code",
   "execution_count": 138,
   "metadata": {
    "collapsed": false
   },
   "outputs": [
    {
     "data": {
      "text/plain": [
       "(array([ 3,  4, -2,  2,  2, -1, -1,  3,  0,  3,  2,  0,  6,  5,  0, -2,  0,\n",
       "         0,  4,  6,  0,  4,  2,  3, -1,  0,  0,  0,  2,  3]),\n",
       " array([-2, -2, -1,  0,  1,  0,  1, -1, -1, -1, -2,  1, -1,  0,  0,  0, -2,\n",
       "         1,  1, -1, -1,  0,  1,  1, -1,  0,  1, -1,  0, -2]))"
      ]
     },
     "execution_count": 138,
     "metadata": {},
     "output_type": "execute_result"
    }
   ],
   "source": [
    "x, y \n"
   ]
  },
  {
   "cell_type": "code",
   "execution_count": 139,
   "metadata": {
    "collapsed": false
   },
   "outputs": [
    {
     "data": {
      "text/plain": [
       "array([ 5,  6, -1,  2,  1, -1, -2,  4,  1,  4,  4, -1,  7,  5,  0, -2,  2,\n",
       "       -1,  3,  7,  1,  4,  1,  2,  0,  0, -1,  1,  2,  5])"
      ]
     },
     "execution_count": 139,
     "metadata": {},
     "output_type": "execute_result"
    }
   ],
   "source": [
    "x-y"
   ]
  },
  {
   "cell_type": "code",
   "execution_count": 143,
   "metadata": {
    "collapsed": false
   },
   "outputs": [
    {
     "data": {
      "text/plain": [
       "0.9"
      ]
     },
     "execution_count": 143,
     "metadata": {},
     "output_type": "execute_result"
    }
   ],
   "source": [
    "x[(x-y)!=0].size / x.size"
   ]
  },
  {
   "cell_type": "markdown",
   "metadata": {},
   "source": [
    "### Zadanie 1.9"
   ]
  },
  {
   "cell_type": "code",
   "execution_count": 151,
   "metadata": {
    "collapsed": false
   },
   "outputs": [],
   "source": [
    "y = np.random.randint(0,2,10)\n",
    "y_hat = np.random.uniform(0,1,10)\n",
    "cross = -(np.sum((y*np.log(y_hat)+(1-y)*np.log(1-y_hat))))/y.size"
   ]
  },
  {
   "cell_type": "code",
   "execution_count": 152,
   "metadata": {
    "collapsed": false
   },
   "outputs": [
    {
     "data": {
      "text/plain": [
       "0.78422351517000677"
      ]
     },
     "execution_count": 152,
     "metadata": {},
     "output_type": "execute_result"
    }
   ],
   "source": [
    "cross\n"
   ]
  },
  {
   "cell_type": "markdown",
   "metadata": {},
   "source": [
    "### Zadanie 10"
   ]
  },
  {
   "cell_type": "code",
   "execution_count": 165,
   "metadata": {
    "collapsed": true
   },
   "outputs": [],
   "source": [
    "def lead(x,n):\n",
    "    x_m=x[:x.size-n]\n",
    "    x_n= np.repeat(np.NaN,n)\n",
    "    \n",
    "    return np.r_[x_m, x_n]\n",
    "\n",
    "def lag(x,n):\n",
    "    x_m=x[n:]\n",
    "    x_n= np.repeat(np.NaN,n)\n",
    "    \n",
    "    return np.r_[x_n, x_m]"
   ]
  },
  {
   "cell_type": "code",
   "execution_count": 166,
   "metadata": {
    "collapsed": false
   },
   "outputs": [
    {
     "data": {
      "text/plain": [
       "(10, 10)"
      ]
     },
     "execution_count": 166,
     "metadata": {},
     "output_type": "execute_result"
    }
   ],
   "source": [
    "x = np.random.randint(0,2,10)\n",
    "lead(x,5).size , lag(x,5).size\n"
   ]
  },
  {
   "cell_type": "markdown",
   "metadata": {
    "collapsed": true
   },
   "source": [
    "### Zadanie 1.11"
   ]
  },
  {
   "cell_type": "code",
   "execution_count": 34,
   "metadata": {
    "collapsed": false
   },
   "outputs": [],
   "source": [
    "import numpy as np\n",
    "waktor2 = np.array([True, True,False, True , False, True ])"
   ]
  },
  {
   "cell_type": "code",
   "execution_count": 35,
   "metadata": {
    "collapsed": false
   },
   "outputs": [
    {
     "data": {
      "text/plain": [
       "2"
      ]
     },
     "execution_count": 35,
     "metadata": {},
     "output_type": "execute_result"
    }
   ],
   "source": [
    "np.min(np.where(waktor2!=True))"
   ]
  },
  {
   "cell_type": "code",
   "execution_count": 36,
   "metadata": {
    "collapsed": false
   },
   "outputs": [
    {
     "data": {
      "text/plain": [
       "2"
      ]
     },
     "execution_count": 36,
     "metadata": {},
     "output_type": "execute_result"
    }
   ],
   "source": [
    "np.argmin(waktor2)"
   ]
  },
  {
   "cell_type": "code",
   "execution_count": 37,
   "metadata": {
    "collapsed": false
   },
   "outputs": [
    {
     "data": {
      "text/plain": [
       "(array([ True,  True], dtype=bool),\n",
       " array([False, False, False, False], dtype=bool))"
      ]
     },
     "execution_count": 37,
     "metadata": {},
     "output_type": "execute_result"
    }
   ],
   "source": [
    "np.repeat(True,np.argmin(waktor2)),np.repeat(False,waktor2.size - np.argmin(waktor2))"
   ]
  },
  {
   "cell_type": "code",
   "execution_count": 38,
   "metadata": {
    "collapsed": false
   },
   "outputs": [
    {
     "data": {
      "text/plain": [
       "array([ True,  True, False, False, False, False], dtype=bool)"
      ]
     },
     "execution_count": 38,
     "metadata": {},
     "output_type": "execute_result"
    }
   ],
   "source": [
    "np.r_[np.repeat(True,np.argmin(waktor2)),np.repeat(False,waktor2.size - np.argmin(waktor2))]"
   ]
  },
  {
   "cell_type": "code",
   "execution_count": 39,
   "metadata": {
    "collapsed": true
   },
   "outputs": [],
   "source": [
    "def cumall(wektor):\n",
    "    return np.r_[np.repeat(True,np.argmin(waktor2)),np.repeat(False,waktor2.size - np.argmin(waktor2))]"
   ]
  },
  {
   "cell_type": "code",
   "execution_count": 40,
   "metadata": {
    "collapsed": false
   },
   "outputs": [
    {
     "data": {
      "text/plain": [
       "array([ True,  True, False, False, False, False], dtype=bool)"
      ]
     },
     "execution_count": 40,
     "metadata": {},
     "output_type": "execute_result"
    }
   ],
   "source": [
    "cumall(waktor2)"
   ]
  },
  {
   "cell_type": "code",
   "execution_count": null,
   "metadata": {
    "collapsed": true
   },
   "outputs": [],
   "source": []
  },
  {
   "cell_type": "code",
   "execution_count": 57,
   "metadata": {
    "collapsed": true
   },
   "outputs": [],
   "source": [
    "def cumany(wektor):\n",
    "    if np.all(wektor!=True):\n",
    "        return wektor.copy()\n",
    "    return np.r_[np.repeat(False,np.argmax(wektor)),np.repeat(True,wektor.size - np.argmax(wektor))]"
   ]
  },
  {
   "cell_type": "code",
   "execution_count": 58,
   "metadata": {
    "collapsed": false
   },
   "outputs": [
    {
     "data": {
      "text/plain": [
       "array([ True,  True,  True,  True,  True,  True], dtype=bool)"
      ]
     },
     "execution_count": 58,
     "metadata": {},
     "output_type": "execute_result"
    }
   ],
   "source": [
    "cumany(waktor2)"
   ]
  },
  {
   "cell_type": "code",
   "execution_count": 59,
   "metadata": {
    "collapsed": true
   },
   "outputs": [],
   "source": [
    "waktor3 = np.array([False, False , False, True, True,False, True , False, True ])"
   ]
  },
  {
   "cell_type": "code",
   "execution_count": 60,
   "metadata": {
    "collapsed": false
   },
   "outputs": [
    {
     "data": {
      "text/plain": [
       "array([False, False, False,  True,  True,  True,  True,  True,  True], dtype=bool)"
      ]
     },
     "execution_count": 60,
     "metadata": {},
     "output_type": "execute_result"
    }
   ],
   "source": [
    "cumany(waktor3)"
   ]
  },
  {
   "cell_type": "code",
   "execution_count": 61,
   "metadata": {
    "collapsed": true
   },
   "outputs": [],
   "source": [
    "waktor4 = np.array([False, False , False,False, False])"
   ]
  },
  {
   "cell_type": "code",
   "execution_count": 62,
   "metadata": {
    "collapsed": false
   },
   "outputs": [
    {
     "data": {
      "text/plain": [
       "array([False, False, False, False, False], dtype=bool)"
      ]
     },
     "execution_count": 62,
     "metadata": {},
     "output_type": "execute_result"
    }
   ],
   "source": [
    "cumany(waktor4)"
   ]
  },
  {
   "cell_type": "code",
   "execution_count": 63,
   "metadata": {
    "collapsed": true
   },
   "outputs": [],
   "source": [
    "def cumall_petla(x):\n",
    "\n",
    "    ret = []\n",
    "\n",
    "    for idx, val in enumerate(x):\n",
    "\n",
    "        ret.append(np.all(x[:idx+1]))\n",
    "\n",
    "    return ret"
   ]
  },
  {
   "cell_type": "markdown",
   "metadata": {},
   "source": [
    "### Zadanie 1.12"
   ]
  },
  {
   "cell_type": "code",
   "execution_count": 142,
   "metadata": {
    "collapsed": false
   },
   "outputs": [
    {
     "data": {
      "text/plain": [
       "(array([ 11,  12,  16,  18, 123]), array([ 86, 193, 106, 205, 410]))"
      ]
     },
     "execution_count": 142,
     "metadata": {},
     "output_type": "execute_result"
    }
   ],
   "source": [
    "x = np.array([11,12,123,16,18])\n",
    "p = np.array([0.1,0.2,0.4,0.1,0.2])\n",
    "n=1000\n",
    "def losuj(x,p,n):\n",
    "    skumulowana=np.cumsum(p)\n",
    "    u = np.random.uniform(0, 1, n) \n",
    "    zmienna = u.reshape(n,1) < skumulowana\n",
    "    return x[zmienna.argmax(axis=1)]\n",
    "wyniki = losuj(x,p,n)\n",
    "np.unique(wyniki, return_counts=True)"
   ]
  },
  {
   "cell_type": "markdown",
   "metadata": {},
   "source": [
    "### Zadanie 1.13"
   ]
  },
  {
   "cell_type": "code",
   "execution_count": 166,
   "metadata": {
    "collapsed": false
   },
   "outputs": [
    {
     "data": {
      "image/png": "[encoded data removed]",
      "text/plain": [
       "<matplotlib.figure.Figure at 0x7fca8b489048>"
      ]
     },
     "metadata": {},
     "output_type": "display_data"
    }
   ],
   "source": [
    "x = np.array([-5,-3,2,7])\n",
    "y = np.array([4,5,-8,8])\n",
    "z = np.array([-4,-2,0,1,5])\n",
    "\n",
    "przedzial = np.digitize(z,x)\n",
    "\n",
    "\n",
    "x_0 = x[przedzial-1]\n",
    "x_1 = x[przedzial]\n",
    "y_0 = y[przedzial-1]\n",
    "y_1 = y[przedzial]\n",
    "# z_0 = 0\n",
    "\n",
    "\n",
    "y_z = y_0 + ((y_1-y_0)/(x_1-x_0))*(z-x_0)\n",
    "plt.plot(x, y, 'r')\n",
    "plt.plot(z,y_z,'o')\n",
    "plt.show()\n"
   ]
  },
  {
   "cell_type": "markdown",
   "metadata": {},
   "source": [
    "### Zadanie 1.15"
   ]
  },
  {
   "cell_type": "code",
   "execution_count": 190,
   "metadata": {
    "collapsed": false
   },
   "outputs": [
    {
     "data": {
      "text/plain": [
       "array([11, 11, 11, 11, 12, 13, 15, 16, 18, 23, 23, 23, 23])"
      ]
     },
     "execution_count": 190,
     "metadata": {},
     "output_type": "execute_result"
    }
   ],
   "source": [
    "x = np.array([11,12,123,99,67,16,18,13,23,2,3,4,15])\n",
    "k=3\n",
    "\n",
    "posort = np.sort(x)\n",
    "posort\n",
    "posort[:k] = posort[k]\n",
    "posort[(-k):]=posort[-k-1]\n",
    "posort"
   ]
  },
  {
   "cell_type": "markdown",
   "metadata": {},
   "source": [
    "### Zadanie 1.16"
   ]
  },
  {
   "cell_type": "code",
   "execution_count": 212,
   "metadata": {
    "collapsed": false
   },
   "outputs": [],
   "source": [
    "n=2\n",
    "silnia=np.power(n/np.e,n)*np.sqrt(2*np.pi*n)"
   ]
  },
  {
   "cell_type": "code",
   "execution_count": 210,
   "metadata": {
    "collapsed": false
   },
   "outputs": [
    {
     "data": {
      "text/plain": [
       "2"
      ]
     },
     "execution_count": 210,
     "metadata": {},
     "output_type": "execute_result"
    }
   ],
   "source": [
    "np.math.factorial(n)"
   ]
  },
  {
   "cell_type": "code",
   "execution_count": 213,
   "metadata": {
    "collapsed": false
   },
   "outputs": [
    {
     "data": {
      "text/plain": [
       "4.0497824255508412"
      ]
     },
     "execution_count": 213,
     "metadata": {},
     "output_type": "execute_result"
    }
   ],
   "source": [
    "((np.math.factorial(n)-silnia)/np.math.factorial(n))*100"
   ]
  },
  {
   "cell_type": "markdown",
   "metadata": {},
   "source": [
    "### Zadanie 1.17"
   ]
  },
  {
   "cell_type": "code",
   "execution_count": 219,
   "metadata": {
    "collapsed": true
   },
   "outputs": [],
   "source": [
    "n=np.arange(0,10000)\n",
    "mianownik = np.tile([1,-1],n/2)\n",
    "licznik = np.where(n%2 == 0 , 1, -1)"
   ]
  },
  {
   "cell_type": "code",
   "execution_count": 222,
   "metadata": {
    "collapsed": false
   },
   "outputs": [],
   "source": [
    "wzor = np.sum((np.power(-1,n))/(2*n+1))*4"
   ]
  },
  {
   "cell_type": "code",
   "execution_count": 223,
   "metadata": {
    "collapsed": false
   },
   "outputs": [
    {
     "data": {
      "text/plain": [
       "3.1414926535900416"
      ]
     },
     "execution_count": 223,
     "metadata": {},
     "output_type": "execute_result"
    }
   ],
   "source": [
    "wzor"
   ]
  },
  {
   "cell_type": "markdown",
   "metadata": {},
   "source": [
    "### Zadanie 1.18"
   ]
  },
  {
   "cell_type": "code",
   "execution_count": 272,
   "metadata": {
    "collapsed": true
   },
   "outputs": [],
   "source": [
    "n=300000\n",
    "x = np.random.uniform(-1,1,n)\n",
    "y = np.random.uniform(-1,1,n)"
   ]
  },
  {
   "cell_type": "code",
   "execution_count": 273,
   "metadata": {
    "collapsed": false,
    "scrolled": true
   },
   "outputs": [
    {
     "name": "stdout",
     "output_type": "stream",
     "text": [
      "100 loops, best of 3: 3.39 ms per loop\n"
     ]
    }
   ],
   "source": [
    "%timeit 4*x[np.where(x**2+y**2<1)].size/x.size"
   ]
  },
  {
   "cell_type": "code",
   "execution_count": 274,
   "metadata": {
    "collapsed": false
   },
   "outputs": [
    {
     "name": "stdout",
     "output_type": "stream",
     "text": [
      "100 loops, best of 3: 3.62 ms per loop\n"
     ]
    }
   ],
   "source": [
    "%timeit 4 * x[(x**2+y**2)<1].size/x.size"
   ]
  },
  {
   "cell_type": "code",
   "execution_count": 275,
   "metadata": {
    "collapsed": false
   },
   "outputs": [
    {
     "name": "stdout",
     "output_type": "stream",
     "text": [
      "100 loops, best of 3: 2.21 ms per loop\n"
     ]
    }
   ],
   "source": [
    "%timeit 4 * np.sum(x**2+y**2 <=1)/n"
   ]
  },
  {
   "cell_type": "code",
   "execution_count": 277,
   "metadata": {
    "collapsed": false
   },
   "outputs": [
    {
     "name": "stdout",
     "output_type": "stream",
     "text": [
      "10 loops, best of 3: 14 ms per loop\n"
     ]
    }
   ],
   "source": [
    "n = 300000\n",
    "\n",
    "matrix = np.random.uniform(-1,1,(n,2))\n",
    "\n",
    "np.size(matrix[np.linalg.norm(matrix, axis=1) <= 1],0)/n*4"
   ]
  },
  {
   "cell_type": "markdown",
   "metadata": {},
   "source": [
    "### Zadanie 1.19"
   ]
  },
  {
   "cell_type": "code",
   "execution_count": 280,
   "metadata": {
    "collapsed": false
   },
   "outputs": [],
   "source": [
    "x = np.array([1, np.NaN, np.NaN, 3 , 2])"
   ]
  },
  {
   "cell_type": "code",
   "execution_count": 281,
   "metadata": {
    "collapsed": false
   },
   "outputs": [
    {
     "data": {
      "text/plain": [
       "array([False,  True,  True, False, False], dtype=bool)"
      ]
     },
     "execution_count": 281,
     "metadata": {},
     "output_type": "execute_result"
    }
   ],
   "source": [
    "np.isnan(x)"
   ]
  },
  {
   "cell_type": "code",
   "execution_count": 282,
   "metadata": {
    "collapsed": false
   },
   "outputs": [],
   "source": [
    "x[np.isnan(x)]= np.nanmean(x)"
   ]
  },
  {
   "cell_type": "code",
   "execution_count": 283,
   "metadata": {
    "collapsed": false
   },
   "outputs": [
    {
     "data": {
      "text/plain": [
       "array([ 1.,  2.,  2.,  3.,  2.])"
      ]
     },
     "execution_count": 283,
     "metadata": {},
     "output_type": "execute_result"
    }
   ],
   "source": [
    "x"
   ]
  },
  {
   "cell_type": "markdown",
   "metadata": {},
   "source": [
    "### Zadanie 1.21"
   ]
  },
  {
   "cell_type": "code",
   "execution_count": 286,
   "metadata": {
    "collapsed": false
   },
   "outputs": [],
   "source": [
    "x = np.array([1,1,1,1,2,1,1,5,6,4,6,878,4,3,5,6,7,64,3,3,4,6,7,9,87,5,3])"
   ]
  },
  {
   "cell_type": "code",
   "execution_count": 292,
   "metadata": {
    "collapsed": false
   },
   "outputs": [
    {
     "data": {
      "text/plain": [
       "array([1])"
      ]
     },
     "execution_count": 292,
     "metadata": {},
     "output_type": "execute_result"
    }
   ],
   "source": [
    "np.unique(x[np.argmax(np.unique(x,return_counts=True)[1])])"
   ]
  },
  {
   "cell_type": "markdown",
   "metadata": {},
   "source": [
    "### Zadanie 1.22"
   ]
  },
  {
   "cell_type": "code",
   "execution_count": 310,
   "metadata": {
    "collapsed": false,
    "scrolled": true
   },
   "outputs": [
    {
     "data": {
      "text/plain": [
       "(2.7119977115342278, -0.02038116139134976)"
      ]
     },
     "execution_count": 310,
     "metadata": {},
     "output_type": "execute_result"
    }
   ],
   "source": [
    "x = np.random.uniform(-5,5,200)\n",
    "y = 2*x + 3 + np.random.normal(loc=0,scale=1, size=200)\n",
    "beta = (np.sum((x-np.mean(x)*(y-np.mean(y))))) / (np.sum((x-np.mean(x))**2))\n",
    "alfa = np.mean(y) - beta* np.mean(x)\n",
    "y2= beta + alfa*x\n",
    "alfa, beta"
   ]
  },
  {
   "cell_type": "code",
   "execution_count": 311,
   "metadata": {
    "collapsed": false
   },
   "outputs": [
    {
     "data": {
      "image/png": "[encoded data removed]",
      "text/plain": [
       "<matplotlib.figure.Figure at 0x7fca8b263e48>"
      ]
     },
     "metadata": {},
     "output_type": "display_data"
    }
   ],
   "source": [
    "plt.plot(x,y,'o')\n",
    "plt.plot(x,y2)\n",
    "plt.show()"
   ]
  },
  {
   "cell_type": "code",
   "execution_count": 312,
   "metadata": {
    "collapsed": true
   },
   "outputs": [],
   "source": [
    "def regresja(x,y):\n",
    "\n",
    "    mean_x = np.mean(x)\n",
    "\n",
    "    mean_y = np.mean(y)\n",
    "\n",
    "    a = np.sum((x-mean_x)*(y-mean_y))/np.sum((x-mean_x)**2)\n",
    "\n",
    "    b = mean_y - a*mean_x\n",
    "\n",
    "    y_estymowane = a*x+b\n",
    "\n",
    "    return (plt.plot(x, y_estymowane, 'r'), plt.plot(x,y,'o'), plt.show())"
   ]
  },
  {
   "cell_type": "code",
   "execution_count": 313,
   "metadata": {
    "collapsed": false
   },
   "outputs": [
    {
     "data": {
      "image/png": "[encoded data removed]",
      "text/plain": [
       "<matplotlib.figure.Figure at 0x7fca8b2156d8>"
      ]
     },
     "metadata": {},
     "output_type": "display_data"
    },
    {
     "data": {
      "text/plain": [
       "([<matplotlib.lines.Line2D at 0x7fca8afa04a8>],\n",
       " [<matplotlib.lines.Line2D at 0x7fca8afa0668>],\n",
       " None)"
      ]
     },
     "execution_count": 313,
     "metadata": {},
     "output_type": "execute_result"
    }
   ],
   "source": [
    "regresja(x,y)"
   ]
  },
  {
   "cell_type": "markdown",
   "metadata": {},
   "source": [
    "### Zadanie 1.23 i 1.24"
   ]
  },
  {
   "cell_type": "code",
   "execution_count": 316,
   "metadata": {
    "collapsed": false
   },
   "outputs": [
    {
     "data": {
      "text/plain": [
       "array([[1, 2, 3],\n",
       "       [4, 5, 6],\n",
       "       [7, 8, 9]])"
      ]
     },
     "execution_count": 316,
     "metadata": {},
     "output_type": "execute_result"
    }
   ],
   "source": [
    "A = np.array([[1,2,3,], [4,5,6],[7,8,9]])\n",
    "A"
   ]
  },
  {
   "cell_type": "code",
   "execution_count": 319,
   "metadata": {
    "collapsed": false
   },
   "outputs": [
    {
     "data": {
      "text/plain": [
       "array([[3, 2, 1],\n",
       "       [6, 5, 4],\n",
       "       [9, 8, 7]])"
      ]
     },
     "execution_count": 319,
     "metadata": {},
     "output_type": "execute_result"
    }
   ],
   "source": [
    "A[:,::-1]"
   ]
  },
  {
   "cell_type": "markdown",
   "metadata": {},
   "source": [
    "### Zadanie 1.25"
   ]
  },
  {
   "cell_type": "code",
   "execution_count": 331,
   "metadata": {
    "collapsed": false
   },
   "outputs": [
    {
     "data": {
      "text/plain": [
       "array([[ 0.54977041,  4.63566447, -2.73936116],\n",
       "       [ 3.31254989,  2.63399472,  4.61110617],\n",
       "       [ 2.88975984,  4.56736335, -4.02041547],\n",
       "       [ 0.2683778 , -2.06494637,  2.88851879],\n",
       "       [ 1.91616042, -4.00638408, -0.22293644],\n",
       "       [-1.40244775,  1.16427294, -3.85138777],\n",
       "       [ 2.02209301,  1.68967623,  2.68553583],\n",
       "       [-4.6850649 ,  0.78604197, -3.55246124],\n",
       "       [ 1.57227134, -3.50435305,  1.16277859],\n",
       "       [-1.64200034, -3.86986141, -0.5461773 ],\n",
       "       [-3.97334274,  4.30580952, -1.9220385 ],\n",
       "       [-3.4494329 , -4.80689392,  3.15837789],\n",
       "       [-1.24997963, -1.53784265, -1.20205893],\n",
       "       [-4.65013241,  1.66179725,  2.78900208],\n",
       "       [ 0.2021649 ,  2.10679254,  4.71458644],\n",
       "       [ 0.60293565,  0.88157077,  4.12233838],\n",
       "       [ 0.05231761, -3.66199189,  2.5840862 ],\n",
       "       [ 3.48704563, -1.93062219, -1.80112616],\n",
       "       [ 3.15415743, -2.28226259, -4.87735037],\n",
       "       [ 4.89143492, -2.30517522,  3.24525   ],\n",
       "       [-3.51189046,  0.69965069, -1.41651078],\n",
       "       [ 2.12371667,  0.9858954 ,  0.88318822],\n",
       "       [-0.58695775,  0.26805729,  0.07762542],\n",
       "       [ 4.6433694 , -0.37019243, -2.15097614],\n",
       "       [-3.9892457 ,  4.92519475,  3.6895166 ]])"
      ]
     },
     "execution_count": 331,
     "metadata": {},
     "output_type": "execute_result"
    }
   ],
   "source": [
    "punkty = np.random.uniform(-5,5,size=(25,3))\n",
    "punkty"
   ]
  },
  {
   "cell_type": "code",
   "execution_count": 332,
   "metadata": {
    "collapsed": false
   },
   "outputs": [
    {
     "data": {
      "text/plain": [
       "(array([ 4.89143492,  4.92519475,  4.71458644]),\n",
       " array([-4.6850649 , -4.80689392, -4.87735037]))"
      ]
     },
     "execution_count": 332,
     "metadata": {},
     "output_type": "execute_result"
    }
   ],
   "source": [
    "np.max(punkty,axis=0) , np.min(punkty,axis=0)"
   ]
  },
  {
   "cell_type": "code",
   "execution_count": 336,
   "metadata": {
    "collapsed": false
   },
   "outputs": [
    {
     "data": {
      "text/plain": [
       "array([[ 4.89143492,  4.92519475,  4.71458644],\n",
       "       [-4.6850649 , -4.80689392, -4.87735037]])"
      ]
     },
     "execution_count": 336,
     "metadata": {},
     "output_type": "execute_result"
    }
   ],
   "source": [
    "np.r_[[np.max(punkty,axis=0)],[np.min(punkty,axis=0)]].reshape(2,-1)"
   ]
  },
  {
   "cell_type": "markdown",
   "metadata": {},
   "source": [
    "### Zadanie 1.2*"
   ]
  },
  {
   "cell_type": "code",
   "execution_count": 337,
   "metadata": {
    "collapsed": true
   },
   "outputs": [],
   "source": [
    "import scipy\n",
    "import scipy.spatial\n",
    "from scipy.spatial import distance_matrix"
   ]
  },
  {
   "cell_type": "code",
   "execution_count": 342,
   "metadata": {
    "collapsed": false
   },
   "outputs": [
    {
     "data": {
      "text/plain": [
       "array([[ 4.8788639 ,  4.90462393],\n",
       "       [ 4.40563701,  4.82480706],\n",
       "       [ 4.31477209,  4.41536038]])"
      ]
     },
     "execution_count": 342,
     "metadata": {},
     "output_type": "execute_result"
    }
   ],
   "source": [
    "X = np.random.uniform(-5,-4, size = (25,2))\n",
    "Y = np.random.uniform(4,5, size = (3,2))\n",
    "Y"
   ]
  },
  {
   "cell_type": "code",
   "execution_count": 341,
   "metadata": {
    "collapsed": false
   },
   "outputs": [
    {
     "data": {
      "text/plain": [
       "array([[ 12.93400973,  12.44454062,  12.56972412,  13.03486668,\n",
       "         12.67683826,  12.36365351,  12.7723142 ,  12.20970457,\n",
       "         12.68013358,  12.67584647,  12.83055305,  13.02167715,\n",
       "         12.88208323,  12.22877042,  12.72658295,  12.9612904 ,\n",
       "         12.56080292,  12.87987474,  12.57353566,  12.67555877,\n",
       "         13.15414087,  12.49103489,  12.31028189,  12.71998938,\n",
       "         12.77950663],\n",
       "       [ 13.09938341,  12.61615309,  12.69994119,  13.16825914,\n",
       "         12.79056422,  12.4873791 ,  12.94257809,  12.35107126,\n",
       "         12.84409196,  12.86050472,  13.00225534,  13.16381896,\n",
       "         12.99174345,  12.37811499,  12.84670175,  13.08764392,\n",
       "         12.73816279,  13.04360423,  12.71681414,  12.86333939,\n",
       "         13.31150936,  12.61653269,  12.45357381,  12.82847356,  12.8881375 ],\n",
       "       [ 13.20939132,  12.72487249,  12.81594632,  13.28388524,\n",
       "         12.90941644,  12.6044171 ,  13.05165983,  12.46501567,\n",
       "         12.9542588 ,  12.96697298,  13.11110204,  13.27792939,\n",
       "         13.11135442,  12.49067873,  12.96448865,  13.20445141,\n",
       "         12.84589958,  13.15388394,  12.83056628,  12.96924386,\n",
       "         13.42300657,  12.73331642,  12.56722352,  12.94822483,\n",
       "         13.00788539]])"
      ]
     },
     "execution_count": 341,
     "metadata": {},
     "output_type": "execute_result"
    }
   ],
   "source": [
    "scipy.spatial.distance_matrix(Y,X)"
   ]
  },
  {
   "cell_type": "code",
   "execution_count": null,
   "metadata": {
    "collapsed": true
   },
   "outputs": [],
   "source": []
  }
 ],
 "metadata": {
  "kernelspec": {
   "display_name": "Python 3",
   "language": "python",
   "name": "python3"
  },
  "language_info": {
   "codemirror_mode": {
    "name": "ipython",
    "version": 3
   },
   "file_extension": ".py",
   "mimetype": "text/x-python",
   "name": "python",
   "nbconvert_exporter": "python",
   "pygments_lexer": "ipython3",
   "version": "3.6.6"
  }
 },
 "nbformat": 4,
 "nbformat_minor": 2
}
